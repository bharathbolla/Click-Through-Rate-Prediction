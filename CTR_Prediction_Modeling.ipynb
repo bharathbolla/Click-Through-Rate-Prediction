{
  "nbformat": 4,
  "nbformat_minor": 0,
  "metadata": {
    "colab": {
      "name": "CTR_Prediction.ipynb",
      "provenance": [],
      "authorship_tag": "ABX9TyNzWXcJmwIKIzkDvxGlB0Ch",
      "include_colab_link": true
    },
    "kernelspec": {
      "name": "python3",
      "display_name": "Python 3"
    },
    "language_info": {
      "name": "python"
    }
  },
  "cells": [
    {
      "cell_type": "markdown",
      "metadata": {
        "id": "view-in-github",
        "colab_type": "text"
      },
      "source": [
        "<a href=\"https://colab.research.google.com/github/bharathbolla/Click-Through-Rate-Prediction/blob/main/CTR_Prediction_Modeling.ipynb\" target=\"_parent\"><img src=\"https://colab.research.google.com/assets/colab-badge.svg\" alt=\"Open In Colab\"/></a>"
      ]
    },
    {
      "cell_type": "code",
      "execution_count": 219,
      "metadata": {
        "id": "1fJW0Cg6-fdz"
      },
      "outputs": [],
      "source": [
        "import numpy as np\n",
        "import random\n",
        "import pandas as pd\n",
        "import matplotlib.pyplot as plt\n",
        "import seaborn as sns\n",
        "%matplotlib inline\n",
        "from sklearn.preprocessing import StandardScaler\n",
        "from sklearn.model_selection import train_test_split\n",
        "from sklearn.linear_model import LogisticRegression\n",
        "from sklearn.metrics import precision_score,recall_score,accuracy_score,f1_score,confusion_matrix,roc_auc_score,classification_report\n",
        "from sklearn.ensemble import RandomForestClassifier\n",
        "from xgboost import XGBClassifier"
      ]
    },
    {
      "cell_type": "code",
      "source": [
        "pd.set_option('display.max_columns', None)\n",
        "pd.set_option('display.expand_frame_repr', False)\n",
        "pd.set_option('max_colwidth', -1)"
      ],
      "metadata": {
        "colab": {
          "base_uri": "https://localhost:8080/"
        },
        "id": "FuBF9NZi_0L9",
        "outputId": "e9dae54f-9206-486f-f52e-f445d97dd8a2"
      },
      "execution_count": 220,
      "outputs": [
        {
          "output_type": "stream",
          "name": "stderr",
          "text": [
            "/usr/local/lib/python3.7/dist-packages/ipykernel_launcher.py:3: FutureWarning: Passing a negative integer is deprecated in version 1.0 and will not be supported in future version. Instead, use None to not limit the column width.\n",
            "  This is separate from the ipykernel package so we can avoid doing imports until\n"
          ]
        }
      ]
    },
    {
      "cell_type": "code",
      "source": [
        "df  = pd.read_csv(\"data.csv\")"
      ],
      "metadata": {
        "id": "zN-MNvUT_AEm"
      },
      "execution_count": 221,
      "outputs": []
    },
    {
      "cell_type": "code",
      "source": [
        "df.head()"
      ],
      "metadata": {
        "colab": {
          "base_uri": "https://localhost:8080/",
          "height": 270
        },
        "id": "8Mkd9p1r_dJO",
        "outputId": "a5b0d9bf-859e-4a4d-ec8e-986a2b3872b6"
      },
      "execution_count": 222,
      "outputs": [
        {
          "output_type": "execute_result",
          "data": {
            "text/plain": [
              "   click    C1  banner_pos   site_id site_domain site_category    app_id app_domain app_category device_id device_ip device_model  device_type  device_conn_type    C14  C15  C16   C17  C18  C19     C20  C21  month  dayofweek  day  hour  y\n",
              "0  False  1005  1           856e6d3f  58a89a43    f028772b      ecad2386  7801e8d9   07d7df22     a99f214a  962c8333  be6db1d7     1            0                 22683  320  50   2528  0    39   100075  221  10     1          28   14    0\n",
              "1  True   1005  1           e151e245  7e091613    f028772b      ecad2386  7801e8d9   07d7df22     a99f214a  5b1f94b9  1b13b020     1            0                 17037  320  50   1934  2    39  -1       16   10     2          22   19    1\n",
              "2  False  1005  0           e3c09f3a  d262cf1e    28905ebd      ecad2386  7801e8d9   07d7df22     a99f214a  a9a84f4c  9a45a8e8     1            0                 22155  320  50   2552  3    167  100202  23   10     3          23   18    0\n",
              "3  False  1002  0           0da94452  248e439f    50e219e0      ecad2386  7801e8d9   07d7df22     0fa578fd  88c62dad  ea6abc60     0            0                 21591  320  50   2478  3    167  100074  23   10     2          22   19    0\n",
              "4  True   1005  0           1fbe01fe  f3845767    28905ebd      ecad2386  7801e8d9   07d7df22     a99f214a  1e5e0d0e  36d749e5     1            0                 15708  320  50   1722  0    35  -1       79   10     1          21   8     1"
            ],
            "text/html": [
              "\n",
              "  <div id=\"df-99851055-346c-4787-adde-f98ed514884e\">\n",
              "    <div class=\"colab-df-container\">\n",
              "      <div>\n",
              "<style scoped>\n",
              "    .dataframe tbody tr th:only-of-type {\n",
              "        vertical-align: middle;\n",
              "    }\n",
              "\n",
              "    .dataframe tbody tr th {\n",
              "        vertical-align: top;\n",
              "    }\n",
              "\n",
              "    .dataframe thead th {\n",
              "        text-align: right;\n",
              "    }\n",
              "</style>\n",
              "<table border=\"1\" class=\"dataframe\">\n",
              "  <thead>\n",
              "    <tr style=\"text-align: right;\">\n",
              "      <th></th>\n",
              "      <th>click</th>\n",
              "      <th>C1</th>\n",
              "      <th>banner_pos</th>\n",
              "      <th>site_id</th>\n",
              "      <th>site_domain</th>\n",
              "      <th>site_category</th>\n",
              "      <th>app_id</th>\n",
              "      <th>app_domain</th>\n",
              "      <th>app_category</th>\n",
              "      <th>device_id</th>\n",
              "      <th>device_ip</th>\n",
              "      <th>device_model</th>\n",
              "      <th>device_type</th>\n",
              "      <th>device_conn_type</th>\n",
              "      <th>C14</th>\n",
              "      <th>C15</th>\n",
              "      <th>C16</th>\n",
              "      <th>C17</th>\n",
              "      <th>C18</th>\n",
              "      <th>C19</th>\n",
              "      <th>C20</th>\n",
              "      <th>C21</th>\n",
              "      <th>month</th>\n",
              "      <th>dayofweek</th>\n",
              "      <th>day</th>\n",
              "      <th>hour</th>\n",
              "      <th>y</th>\n",
              "    </tr>\n",
              "  </thead>\n",
              "  <tbody>\n",
              "    <tr>\n",
              "      <th>0</th>\n",
              "      <td>False</td>\n",
              "      <td>1005</td>\n",
              "      <td>1</td>\n",
              "      <td>856e6d3f</td>\n",
              "      <td>58a89a43</td>\n",
              "      <td>f028772b</td>\n",
              "      <td>ecad2386</td>\n",
              "      <td>7801e8d9</td>\n",
              "      <td>07d7df22</td>\n",
              "      <td>a99f214a</td>\n",
              "      <td>962c8333</td>\n",
              "      <td>be6db1d7</td>\n",
              "      <td>1</td>\n",
              "      <td>0</td>\n",
              "      <td>22683</td>\n",
              "      <td>320</td>\n",
              "      <td>50</td>\n",
              "      <td>2528</td>\n",
              "      <td>0</td>\n",
              "      <td>39</td>\n",
              "      <td>100075</td>\n",
              "      <td>221</td>\n",
              "      <td>10</td>\n",
              "      <td>1</td>\n",
              "      <td>28</td>\n",
              "      <td>14</td>\n",
              "      <td>0</td>\n",
              "    </tr>\n",
              "    <tr>\n",
              "      <th>1</th>\n",
              "      <td>True</td>\n",
              "      <td>1005</td>\n",
              "      <td>1</td>\n",
              "      <td>e151e245</td>\n",
              "      <td>7e091613</td>\n",
              "      <td>f028772b</td>\n",
              "      <td>ecad2386</td>\n",
              "      <td>7801e8d9</td>\n",
              "      <td>07d7df22</td>\n",
              "      <td>a99f214a</td>\n",
              "      <td>5b1f94b9</td>\n",
              "      <td>1b13b020</td>\n",
              "      <td>1</td>\n",
              "      <td>0</td>\n",
              "      <td>17037</td>\n",
              "      <td>320</td>\n",
              "      <td>50</td>\n",
              "      <td>1934</td>\n",
              "      <td>2</td>\n",
              "      <td>39</td>\n",
              "      <td>-1</td>\n",
              "      <td>16</td>\n",
              "      <td>10</td>\n",
              "      <td>2</td>\n",
              "      <td>22</td>\n",
              "      <td>19</td>\n",
              "      <td>1</td>\n",
              "    </tr>\n",
              "    <tr>\n",
              "      <th>2</th>\n",
              "      <td>False</td>\n",
              "      <td>1005</td>\n",
              "      <td>0</td>\n",
              "      <td>e3c09f3a</td>\n",
              "      <td>d262cf1e</td>\n",
              "      <td>28905ebd</td>\n",
              "      <td>ecad2386</td>\n",
              "      <td>7801e8d9</td>\n",
              "      <td>07d7df22</td>\n",
              "      <td>a99f214a</td>\n",
              "      <td>a9a84f4c</td>\n",
              "      <td>9a45a8e8</td>\n",
              "      <td>1</td>\n",
              "      <td>0</td>\n",
              "      <td>22155</td>\n",
              "      <td>320</td>\n",
              "      <td>50</td>\n",
              "      <td>2552</td>\n",
              "      <td>3</td>\n",
              "      <td>167</td>\n",
              "      <td>100202</td>\n",
              "      <td>23</td>\n",
              "      <td>10</td>\n",
              "      <td>3</td>\n",
              "      <td>23</td>\n",
              "      <td>18</td>\n",
              "      <td>0</td>\n",
              "    </tr>\n",
              "    <tr>\n",
              "      <th>3</th>\n",
              "      <td>False</td>\n",
              "      <td>1002</td>\n",
              "      <td>0</td>\n",
              "      <td>0da94452</td>\n",
              "      <td>248e439f</td>\n",
              "      <td>50e219e0</td>\n",
              "      <td>ecad2386</td>\n",
              "      <td>7801e8d9</td>\n",
              "      <td>07d7df22</td>\n",
              "      <td>0fa578fd</td>\n",
              "      <td>88c62dad</td>\n",
              "      <td>ea6abc60</td>\n",
              "      <td>0</td>\n",
              "      <td>0</td>\n",
              "      <td>21591</td>\n",
              "      <td>320</td>\n",
              "      <td>50</td>\n",
              "      <td>2478</td>\n",
              "      <td>3</td>\n",
              "      <td>167</td>\n",
              "      <td>100074</td>\n",
              "      <td>23</td>\n",
              "      <td>10</td>\n",
              "      <td>2</td>\n",
              "      <td>22</td>\n",
              "      <td>19</td>\n",
              "      <td>0</td>\n",
              "    </tr>\n",
              "    <tr>\n",
              "      <th>4</th>\n",
              "      <td>True</td>\n",
              "      <td>1005</td>\n",
              "      <td>0</td>\n",
              "      <td>1fbe01fe</td>\n",
              "      <td>f3845767</td>\n",
              "      <td>28905ebd</td>\n",
              "      <td>ecad2386</td>\n",
              "      <td>7801e8d9</td>\n",
              "      <td>07d7df22</td>\n",
              "      <td>a99f214a</td>\n",
              "      <td>1e5e0d0e</td>\n",
              "      <td>36d749e5</td>\n",
              "      <td>1</td>\n",
              "      <td>0</td>\n",
              "      <td>15708</td>\n",
              "      <td>320</td>\n",
              "      <td>50</td>\n",
              "      <td>1722</td>\n",
              "      <td>0</td>\n",
              "      <td>35</td>\n",
              "      <td>-1</td>\n",
              "      <td>79</td>\n",
              "      <td>10</td>\n",
              "      <td>1</td>\n",
              "      <td>21</td>\n",
              "      <td>8</td>\n",
              "      <td>1</td>\n",
              "    </tr>\n",
              "  </tbody>\n",
              "</table>\n",
              "</div>\n",
              "      <button class=\"colab-df-convert\" onclick=\"convertToInteractive('df-99851055-346c-4787-adde-f98ed514884e')\"\n",
              "              title=\"Convert this dataframe to an interactive table.\"\n",
              "              style=\"display:none;\">\n",
              "        \n",
              "  <svg xmlns=\"http://www.w3.org/2000/svg\" height=\"24px\"viewBox=\"0 0 24 24\"\n",
              "       width=\"24px\">\n",
              "    <path d=\"M0 0h24v24H0V0z\" fill=\"none\"/>\n",
              "    <path d=\"M18.56 5.44l.94 2.06.94-2.06 2.06-.94-2.06-.94-.94-2.06-.94 2.06-2.06.94zm-11 1L8.5 8.5l.94-2.06 2.06-.94-2.06-.94L8.5 2.5l-.94 2.06-2.06.94zm10 10l.94 2.06.94-2.06 2.06-.94-2.06-.94-.94-2.06-.94 2.06-2.06.94z\"/><path d=\"M17.41 7.96l-1.37-1.37c-.4-.4-.92-.59-1.43-.59-.52 0-1.04.2-1.43.59L10.3 9.45l-7.72 7.72c-.78.78-.78 2.05 0 2.83L4 21.41c.39.39.9.59 1.41.59.51 0 1.02-.2 1.41-.59l7.78-7.78 2.81-2.81c.8-.78.8-2.07 0-2.86zM5.41 20L4 18.59l7.72-7.72 1.47 1.35L5.41 20z\"/>\n",
              "  </svg>\n",
              "      </button>\n",
              "      \n",
              "  <style>\n",
              "    .colab-df-container {\n",
              "      display:flex;\n",
              "      flex-wrap:wrap;\n",
              "      gap: 12px;\n",
              "    }\n",
              "\n",
              "    .colab-df-convert {\n",
              "      background-color: #E8F0FE;\n",
              "      border: none;\n",
              "      border-radius: 50%;\n",
              "      cursor: pointer;\n",
              "      display: none;\n",
              "      fill: #1967D2;\n",
              "      height: 32px;\n",
              "      padding: 0 0 0 0;\n",
              "      width: 32px;\n",
              "    }\n",
              "\n",
              "    .colab-df-convert:hover {\n",
              "      background-color: #E2EBFA;\n",
              "      box-shadow: 0px 1px 2px rgba(60, 64, 67, 0.3), 0px 1px 3px 1px rgba(60, 64, 67, 0.15);\n",
              "      fill: #174EA6;\n",
              "    }\n",
              "\n",
              "    [theme=dark] .colab-df-convert {\n",
              "      background-color: #3B4455;\n",
              "      fill: #D2E3FC;\n",
              "    }\n",
              "\n",
              "    [theme=dark] .colab-df-convert:hover {\n",
              "      background-color: #434B5C;\n",
              "      box-shadow: 0px 1px 3px 1px rgba(0, 0, 0, 0.15);\n",
              "      filter: drop-shadow(0px 1px 2px rgba(0, 0, 0, 0.3));\n",
              "      fill: #FFFFFF;\n",
              "    }\n",
              "  </style>\n",
              "\n",
              "      <script>\n",
              "        const buttonEl =\n",
              "          document.querySelector('#df-99851055-346c-4787-adde-f98ed514884e button.colab-df-convert');\n",
              "        buttonEl.style.display =\n",
              "          google.colab.kernel.accessAllowed ? 'block' : 'none';\n",
              "\n",
              "        async function convertToInteractive(key) {\n",
              "          const element = document.querySelector('#df-99851055-346c-4787-adde-f98ed514884e');\n",
              "          const dataTable =\n",
              "            await google.colab.kernel.invokeFunction('convertToInteractive',\n",
              "                                                     [key], {});\n",
              "          if (!dataTable) return;\n",
              "\n",
              "          const docLinkHtml = 'Like what you see? Visit the ' +\n",
              "            '<a target=\"_blank\" href=https://colab.research.google.com/notebooks/data_table.ipynb>data table notebook</a>'\n",
              "            + ' to learn more about interactive tables.';\n",
              "          element.innerHTML = '';\n",
              "          dataTable['output_type'] = 'display_data';\n",
              "          await google.colab.output.renderOutput(dataTable, element);\n",
              "          const docLink = document.createElement('div');\n",
              "          docLink.innerHTML = docLinkHtml;\n",
              "          element.appendChild(docLink);\n",
              "        }\n",
              "      </script>\n",
              "    </div>\n",
              "  </div>\n",
              "  "
            ]
          },
          "metadata": {},
          "execution_count": 222
        }
      ]
    },
    {
      "cell_type": "code",
      "source": [
        "df.info()"
      ],
      "metadata": {
        "colab": {
          "base_uri": "https://localhost:8080/"
        },
        "id": "igtPzbcd_2Ry",
        "outputId": "5ecd61da-35b8-4c14-f09f-a91a3c516f1c"
      },
      "execution_count": 223,
      "outputs": [
        {
          "output_type": "stream",
          "name": "stdout",
          "text": [
            "<class 'pandas.core.frame.DataFrame'>\n",
            "RangeIndex: 99999 entries, 0 to 99998\n",
            "Data columns (total 27 columns):\n",
            " #   Column            Non-Null Count  Dtype \n",
            "---  ------            --------------  ----- \n",
            " 0   click             99999 non-null  bool  \n",
            " 1   C1                99999 non-null  int64 \n",
            " 2   banner_pos        99999 non-null  int64 \n",
            " 3   site_id           99999 non-null  object\n",
            " 4   site_domain       99999 non-null  object\n",
            " 5   site_category     99999 non-null  object\n",
            " 6   app_id            99999 non-null  object\n",
            " 7   app_domain        99999 non-null  object\n",
            " 8   app_category      99999 non-null  object\n",
            " 9   device_id         99999 non-null  object\n",
            " 10  device_ip         99999 non-null  object\n",
            " 11  device_model      99999 non-null  object\n",
            " 12  device_type       99999 non-null  int64 \n",
            " 13  device_conn_type  99999 non-null  int64 \n",
            " 14  C14               99999 non-null  int64 \n",
            " 15  C15               99999 non-null  int64 \n",
            " 16  C16               99999 non-null  int64 \n",
            " 17  C17               99999 non-null  int64 \n",
            " 18  C18               99999 non-null  int64 \n",
            " 19  C19               99999 non-null  int64 \n",
            " 20  C20               99999 non-null  int64 \n",
            " 21  C21               99999 non-null  int64 \n",
            " 22  month             99999 non-null  int64 \n",
            " 23  dayofweek         99999 non-null  int64 \n",
            " 24  day               99999 non-null  int64 \n",
            " 25  hour              99999 non-null  int64 \n",
            " 26  y                 99999 non-null  int64 \n",
            "dtypes: bool(1), int64(17), object(9)\n",
            "memory usage: 19.9+ MB\n"
          ]
        }
      ]
    },
    {
      "cell_type": "code",
      "source": [
        "df.describe()"
      ],
      "metadata": {
        "colab": {
          "base_uri": "https://localhost:8080/",
          "height": 364
        },
        "id": "J5EJ5hsIALpa",
        "outputId": "f0174fdd-40f0-4a37-bd2c-3111a8ac8ad7"
      },
      "execution_count": 224,
      "outputs": [
        {
          "output_type": "execute_result",
          "data": {
            "text/plain": [
              "                 C1    banner_pos  device_type  device_conn_type           C14           C15           C16           C17           C18           C19            C20           C21    month     dayofweek           day          hour             y\n",
              "count  99999.000000  99999.000000  99999.00000  99999.000000      99999.000000  99999.000000  99999.000000  99999.000000  99999.000000  99999.000000  99999.000000   99999.000000  99999.0  99999.000000  99999.000000  99999.000000  99999.000000\n",
              "mean   1004.967550   0.289943      1.01639      0.329453          18857.231732  318.834548    60.278743     2114.613036   1.439904      227.234932    53292.001950   83.163542     10.0     2.592836      25.485755     11.300673     0.169802    \n",
              "std    1.091916      0.505707      0.53110      0.854673          4944.919482   21.510752     47.713436     607.469442    1.326824      351.472366    49952.340367   70.161076     0.0      1.723003      2.968520      5.938725      0.375460    \n",
              "min    1001.000000   0.000000      0.00000      0.000000          375.000000    120.000000    20.000000     112.000000    0.000000      33.000000    -1.000000       1.000000      10.0     0.000000      21.000000     0.000000      0.000000    \n",
              "25%    1005.000000   0.000000      1.00000      0.000000          16920.000000  320.000000    50.000000     1863.000000   0.000000      35.000000    -1.000000       23.000000     10.0     1.000000      23.000000     7.000000      0.000000    \n",
              "50%    1005.000000   0.000000      1.00000      0.000000          20346.000000  320.000000    50.000000     2323.000000   2.000000      39.000000     100050.000000  61.000000     10.0     2.000000      26.000000     11.000000     0.000000    \n",
              "75%    1005.000000   1.000000      1.00000      0.000000          21893.000000  320.000000    50.000000     2526.000000   3.000000      171.000000    100093.000000  101.000000    10.0     4.000000      28.000000     16.000000     0.000000    \n",
              "max    1012.000000   7.000000      5.00000      5.000000          24043.000000  1024.000000   1024.000000   2757.000000   3.000000      1839.000000   100248.000000  255.000000    10.0     6.000000      30.000000     23.000000     1.000000    "
            ],
            "text/html": [
              "\n",
              "  <div id=\"df-c8f8d8af-693b-43a6-846c-897a14b8bb03\">\n",
              "    <div class=\"colab-df-container\">\n",
              "      <div>\n",
              "<style scoped>\n",
              "    .dataframe tbody tr th:only-of-type {\n",
              "        vertical-align: middle;\n",
              "    }\n",
              "\n",
              "    .dataframe tbody tr th {\n",
              "        vertical-align: top;\n",
              "    }\n",
              "\n",
              "    .dataframe thead th {\n",
              "        text-align: right;\n",
              "    }\n",
              "</style>\n",
              "<table border=\"1\" class=\"dataframe\">\n",
              "  <thead>\n",
              "    <tr style=\"text-align: right;\">\n",
              "      <th></th>\n",
              "      <th>C1</th>\n",
              "      <th>banner_pos</th>\n",
              "      <th>device_type</th>\n",
              "      <th>device_conn_type</th>\n",
              "      <th>C14</th>\n",
              "      <th>C15</th>\n",
              "      <th>C16</th>\n",
              "      <th>C17</th>\n",
              "      <th>C18</th>\n",
              "      <th>C19</th>\n",
              "      <th>C20</th>\n",
              "      <th>C21</th>\n",
              "      <th>month</th>\n",
              "      <th>dayofweek</th>\n",
              "      <th>day</th>\n",
              "      <th>hour</th>\n",
              "      <th>y</th>\n",
              "    </tr>\n",
              "  </thead>\n",
              "  <tbody>\n",
              "    <tr>\n",
              "      <th>count</th>\n",
              "      <td>99999.000000</td>\n",
              "      <td>99999.000000</td>\n",
              "      <td>99999.00000</td>\n",
              "      <td>99999.000000</td>\n",
              "      <td>99999.000000</td>\n",
              "      <td>99999.000000</td>\n",
              "      <td>99999.000000</td>\n",
              "      <td>99999.000000</td>\n",
              "      <td>99999.000000</td>\n",
              "      <td>99999.000000</td>\n",
              "      <td>99999.000000</td>\n",
              "      <td>99999.000000</td>\n",
              "      <td>99999.0</td>\n",
              "      <td>99999.000000</td>\n",
              "      <td>99999.000000</td>\n",
              "      <td>99999.000000</td>\n",
              "      <td>99999.000000</td>\n",
              "    </tr>\n",
              "    <tr>\n",
              "      <th>mean</th>\n",
              "      <td>1004.967550</td>\n",
              "      <td>0.289943</td>\n",
              "      <td>1.01639</td>\n",
              "      <td>0.329453</td>\n",
              "      <td>18857.231732</td>\n",
              "      <td>318.834548</td>\n",
              "      <td>60.278743</td>\n",
              "      <td>2114.613036</td>\n",
              "      <td>1.439904</td>\n",
              "      <td>227.234932</td>\n",
              "      <td>53292.001950</td>\n",
              "      <td>83.163542</td>\n",
              "      <td>10.0</td>\n",
              "      <td>2.592836</td>\n",
              "      <td>25.485755</td>\n",
              "      <td>11.300673</td>\n",
              "      <td>0.169802</td>\n",
              "    </tr>\n",
              "    <tr>\n",
              "      <th>std</th>\n",
              "      <td>1.091916</td>\n",
              "      <td>0.505707</td>\n",
              "      <td>0.53110</td>\n",
              "      <td>0.854673</td>\n",
              "      <td>4944.919482</td>\n",
              "      <td>21.510752</td>\n",
              "      <td>47.713436</td>\n",
              "      <td>607.469442</td>\n",
              "      <td>1.326824</td>\n",
              "      <td>351.472366</td>\n",
              "      <td>49952.340367</td>\n",
              "      <td>70.161076</td>\n",
              "      <td>0.0</td>\n",
              "      <td>1.723003</td>\n",
              "      <td>2.968520</td>\n",
              "      <td>5.938725</td>\n",
              "      <td>0.375460</td>\n",
              "    </tr>\n",
              "    <tr>\n",
              "      <th>min</th>\n",
              "      <td>1001.000000</td>\n",
              "      <td>0.000000</td>\n",
              "      <td>0.00000</td>\n",
              "      <td>0.000000</td>\n",
              "      <td>375.000000</td>\n",
              "      <td>120.000000</td>\n",
              "      <td>20.000000</td>\n",
              "      <td>112.000000</td>\n",
              "      <td>0.000000</td>\n",
              "      <td>33.000000</td>\n",
              "      <td>-1.000000</td>\n",
              "      <td>1.000000</td>\n",
              "      <td>10.0</td>\n",
              "      <td>0.000000</td>\n",
              "      <td>21.000000</td>\n",
              "      <td>0.000000</td>\n",
              "      <td>0.000000</td>\n",
              "    </tr>\n",
              "    <tr>\n",
              "      <th>25%</th>\n",
              "      <td>1005.000000</td>\n",
              "      <td>0.000000</td>\n",
              "      <td>1.00000</td>\n",
              "      <td>0.000000</td>\n",
              "      <td>16920.000000</td>\n",
              "      <td>320.000000</td>\n",
              "      <td>50.000000</td>\n",
              "      <td>1863.000000</td>\n",
              "      <td>0.000000</td>\n",
              "      <td>35.000000</td>\n",
              "      <td>-1.000000</td>\n",
              "      <td>23.000000</td>\n",
              "      <td>10.0</td>\n",
              "      <td>1.000000</td>\n",
              "      <td>23.000000</td>\n",
              "      <td>7.000000</td>\n",
              "      <td>0.000000</td>\n",
              "    </tr>\n",
              "    <tr>\n",
              "      <th>50%</th>\n",
              "      <td>1005.000000</td>\n",
              "      <td>0.000000</td>\n",
              "      <td>1.00000</td>\n",
              "      <td>0.000000</td>\n",
              "      <td>20346.000000</td>\n",
              "      <td>320.000000</td>\n",
              "      <td>50.000000</td>\n",
              "      <td>2323.000000</td>\n",
              "      <td>2.000000</td>\n",
              "      <td>39.000000</td>\n",
              "      <td>100050.000000</td>\n",
              "      <td>61.000000</td>\n",
              "      <td>10.0</td>\n",
              "      <td>2.000000</td>\n",
              "      <td>26.000000</td>\n",
              "      <td>11.000000</td>\n",
              "      <td>0.000000</td>\n",
              "    </tr>\n",
              "    <tr>\n",
              "      <th>75%</th>\n",
              "      <td>1005.000000</td>\n",
              "      <td>1.000000</td>\n",
              "      <td>1.00000</td>\n",
              "      <td>0.000000</td>\n",
              "      <td>21893.000000</td>\n",
              "      <td>320.000000</td>\n",
              "      <td>50.000000</td>\n",
              "      <td>2526.000000</td>\n",
              "      <td>3.000000</td>\n",
              "      <td>171.000000</td>\n",
              "      <td>100093.000000</td>\n",
              "      <td>101.000000</td>\n",
              "      <td>10.0</td>\n",
              "      <td>4.000000</td>\n",
              "      <td>28.000000</td>\n",
              "      <td>16.000000</td>\n",
              "      <td>0.000000</td>\n",
              "    </tr>\n",
              "    <tr>\n",
              "      <th>max</th>\n",
              "      <td>1012.000000</td>\n",
              "      <td>7.000000</td>\n",
              "      <td>5.00000</td>\n",
              "      <td>5.000000</td>\n",
              "      <td>24043.000000</td>\n",
              "      <td>1024.000000</td>\n",
              "      <td>1024.000000</td>\n",
              "      <td>2757.000000</td>\n",
              "      <td>3.000000</td>\n",
              "      <td>1839.000000</td>\n",
              "      <td>100248.000000</td>\n",
              "      <td>255.000000</td>\n",
              "      <td>10.0</td>\n",
              "      <td>6.000000</td>\n",
              "      <td>30.000000</td>\n",
              "      <td>23.000000</td>\n",
              "      <td>1.000000</td>\n",
              "    </tr>\n",
              "  </tbody>\n",
              "</table>\n",
              "</div>\n",
              "      <button class=\"colab-df-convert\" onclick=\"convertToInteractive('df-c8f8d8af-693b-43a6-846c-897a14b8bb03')\"\n",
              "              title=\"Convert this dataframe to an interactive table.\"\n",
              "              style=\"display:none;\">\n",
              "        \n",
              "  <svg xmlns=\"http://www.w3.org/2000/svg\" height=\"24px\"viewBox=\"0 0 24 24\"\n",
              "       width=\"24px\">\n",
              "    <path d=\"M0 0h24v24H0V0z\" fill=\"none\"/>\n",
              "    <path d=\"M18.56 5.44l.94 2.06.94-2.06 2.06-.94-2.06-.94-.94-2.06-.94 2.06-2.06.94zm-11 1L8.5 8.5l.94-2.06 2.06-.94-2.06-.94L8.5 2.5l-.94 2.06-2.06.94zm10 10l.94 2.06.94-2.06 2.06-.94-2.06-.94-.94-2.06-.94 2.06-2.06.94z\"/><path d=\"M17.41 7.96l-1.37-1.37c-.4-.4-.92-.59-1.43-.59-.52 0-1.04.2-1.43.59L10.3 9.45l-7.72 7.72c-.78.78-.78 2.05 0 2.83L4 21.41c.39.39.9.59 1.41.59.51 0 1.02-.2 1.41-.59l7.78-7.78 2.81-2.81c.8-.78.8-2.07 0-2.86zM5.41 20L4 18.59l7.72-7.72 1.47 1.35L5.41 20z\"/>\n",
              "  </svg>\n",
              "      </button>\n",
              "      \n",
              "  <style>\n",
              "    .colab-df-container {\n",
              "      display:flex;\n",
              "      flex-wrap:wrap;\n",
              "      gap: 12px;\n",
              "    }\n",
              "\n",
              "    .colab-df-convert {\n",
              "      background-color: #E8F0FE;\n",
              "      border: none;\n",
              "      border-radius: 50%;\n",
              "      cursor: pointer;\n",
              "      display: none;\n",
              "      fill: #1967D2;\n",
              "      height: 32px;\n",
              "      padding: 0 0 0 0;\n",
              "      width: 32px;\n",
              "    }\n",
              "\n",
              "    .colab-df-convert:hover {\n",
              "      background-color: #E2EBFA;\n",
              "      box-shadow: 0px 1px 2px rgba(60, 64, 67, 0.3), 0px 1px 3px 1px rgba(60, 64, 67, 0.15);\n",
              "      fill: #174EA6;\n",
              "    }\n",
              "\n",
              "    [theme=dark] .colab-df-convert {\n",
              "      background-color: #3B4455;\n",
              "      fill: #D2E3FC;\n",
              "    }\n",
              "\n",
              "    [theme=dark] .colab-df-convert:hover {\n",
              "      background-color: #434B5C;\n",
              "      box-shadow: 0px 1px 3px 1px rgba(0, 0, 0, 0.15);\n",
              "      filter: drop-shadow(0px 1px 2px rgba(0, 0, 0, 0.3));\n",
              "      fill: #FFFFFF;\n",
              "    }\n",
              "  </style>\n",
              "\n",
              "      <script>\n",
              "        const buttonEl =\n",
              "          document.querySelector('#df-c8f8d8af-693b-43a6-846c-897a14b8bb03 button.colab-df-convert');\n",
              "        buttonEl.style.display =\n",
              "          google.colab.kernel.accessAllowed ? 'block' : 'none';\n",
              "\n",
              "        async function convertToInteractive(key) {\n",
              "          const element = document.querySelector('#df-c8f8d8af-693b-43a6-846c-897a14b8bb03');\n",
              "          const dataTable =\n",
              "            await google.colab.kernel.invokeFunction('convertToInteractive',\n",
              "                                                     [key], {});\n",
              "          if (!dataTable) return;\n",
              "\n",
              "          const docLinkHtml = 'Like what you see? Visit the ' +\n",
              "            '<a target=\"_blank\" href=https://colab.research.google.com/notebooks/data_table.ipynb>data table notebook</a>'\n",
              "            + ' to learn more about interactive tables.';\n",
              "          element.innerHTML = '';\n",
              "          dataTable['output_type'] = 'display_data';\n",
              "          await google.colab.output.renderOutput(dataTable, element);\n",
              "          const docLink = document.createElement('div');\n",
              "          docLink.innerHTML = docLinkHtml;\n",
              "          element.appendChild(docLink);\n",
              "        }\n",
              "      </script>\n",
              "    </div>\n",
              "  </div>\n",
              "  "
            ]
          },
          "metadata": {},
          "execution_count": 224
        }
      ]
    },
    {
      "cell_type": "code",
      "source": [
        "df.describe(include=\"all\")"
      ],
      "metadata": {
        "colab": {
          "base_uri": "https://localhost:8080/",
          "height": 458
        },
        "id": "oIXT571EAmap",
        "outputId": "ad41ff34-fbdb-4d00-d500-822e0bd5b0e2"
      },
      "execution_count": 225,
      "outputs": [
        {
          "output_type": "execute_result",
          "data": {
            "text/plain": [
              "        click            C1    banner_pos   site_id site_domain site_category    app_id app_domain app_category device_id device_ip device_model  device_type  device_conn_type           C14           C15           C16           C17           C18           C19            C20           C21    month     dayofweek           day          hour             y\n",
              "count   99999  99999.000000  99999.000000  99999     99999       99999         99999     99999      99999        99999     99999     99999        99999.00000  99999.000000      99999.000000  99999.000000  99999.000000  99999.000000  99999.000000  99999.000000  99999.000000   99999.000000  99999.0  99999.000000  99999.000000  99999.000000  99999.000000\n",
              "unique  2     NaN           NaN            1485      1331        19            1354      96         21           16801     78013     3145        NaN          NaN               NaN           NaN           NaN           NaN           NaN           NaN           NaN            NaN           NaN      NaN           NaN           NaN           NaN          \n",
              "top     False NaN           NaN            85f751fd  c4e18dd6    50e219e0      ecad2386  7801e8d9   07d7df22     a99f214a  6b9769f2  8a4875bd    NaN          NaN               NaN           NaN           NaN           NaN           NaN           NaN           NaN            NaN           NaN      NaN           NaN           NaN           NaN          \n",
              "freq    83019 NaN           NaN            36022     37362       40839         63977     67464      64769        82579     521       6041        NaN          NaN               NaN           NaN           NaN           NaN           NaN           NaN           NaN            NaN           NaN      NaN           NaN           NaN           NaN          \n",
              "mean    NaN    1004.967550   0.289943      NaN       NaN         NaN           NaN       NaN        NaN          NaN       NaN       NaN          1.01639      0.329453          18857.231732  318.834548    60.278743     2114.613036   1.439904      227.234932    53292.001950   83.163542     10.0     2.592836      25.485755     11.300673     0.169802    \n",
              "std     NaN    1.091916      0.505707      NaN       NaN         NaN           NaN       NaN        NaN          NaN       NaN       NaN          0.53110      0.854673          4944.919482   21.510752     47.713436     607.469442    1.326824      351.472366    49952.340367   70.161076     0.0      1.723003      2.968520      5.938725      0.375460    \n",
              "min     NaN    1001.000000   0.000000      NaN       NaN         NaN           NaN       NaN        NaN          NaN       NaN       NaN          0.00000      0.000000          375.000000    120.000000    20.000000     112.000000    0.000000      33.000000    -1.000000       1.000000      10.0     0.000000      21.000000     0.000000      0.000000    \n",
              "25%     NaN    1005.000000   0.000000      NaN       NaN         NaN           NaN       NaN        NaN          NaN       NaN       NaN          1.00000      0.000000          16920.000000  320.000000    50.000000     1863.000000   0.000000      35.000000    -1.000000       23.000000     10.0     1.000000      23.000000     7.000000      0.000000    \n",
              "50%     NaN    1005.000000   0.000000      NaN       NaN         NaN           NaN       NaN        NaN          NaN       NaN       NaN          1.00000      0.000000          20346.000000  320.000000    50.000000     2323.000000   2.000000      39.000000     100050.000000  61.000000     10.0     2.000000      26.000000     11.000000     0.000000    \n",
              "75%     NaN    1005.000000   1.000000      NaN       NaN         NaN           NaN       NaN        NaN          NaN       NaN       NaN          1.00000      0.000000          21893.000000  320.000000    50.000000     2526.000000   3.000000      171.000000    100093.000000  101.000000    10.0     4.000000      28.000000     16.000000     0.000000    \n",
              "max     NaN    1012.000000   7.000000      NaN       NaN         NaN           NaN       NaN        NaN          NaN       NaN       NaN          5.00000      5.000000          24043.000000  1024.000000   1024.000000   2757.000000   3.000000      1839.000000   100248.000000  255.000000    10.0     6.000000      30.000000     23.000000     1.000000    "
            ],
            "text/html": [
              "\n",
              "  <div id=\"df-fbcb93e3-7710-480d-8eb3-cf2f52eea6a0\">\n",
              "    <div class=\"colab-df-container\">\n",
              "      <div>\n",
              "<style scoped>\n",
              "    .dataframe tbody tr th:only-of-type {\n",
              "        vertical-align: middle;\n",
              "    }\n",
              "\n",
              "    .dataframe tbody tr th {\n",
              "        vertical-align: top;\n",
              "    }\n",
              "\n",
              "    .dataframe thead th {\n",
              "        text-align: right;\n",
              "    }\n",
              "</style>\n",
              "<table border=\"1\" class=\"dataframe\">\n",
              "  <thead>\n",
              "    <tr style=\"text-align: right;\">\n",
              "      <th></th>\n",
              "      <th>click</th>\n",
              "      <th>C1</th>\n",
              "      <th>banner_pos</th>\n",
              "      <th>site_id</th>\n",
              "      <th>site_domain</th>\n",
              "      <th>site_category</th>\n",
              "      <th>app_id</th>\n",
              "      <th>app_domain</th>\n",
              "      <th>app_category</th>\n",
              "      <th>device_id</th>\n",
              "      <th>device_ip</th>\n",
              "      <th>device_model</th>\n",
              "      <th>device_type</th>\n",
              "      <th>device_conn_type</th>\n",
              "      <th>C14</th>\n",
              "      <th>C15</th>\n",
              "      <th>C16</th>\n",
              "      <th>C17</th>\n",
              "      <th>C18</th>\n",
              "      <th>C19</th>\n",
              "      <th>C20</th>\n",
              "      <th>C21</th>\n",
              "      <th>month</th>\n",
              "      <th>dayofweek</th>\n",
              "      <th>day</th>\n",
              "      <th>hour</th>\n",
              "      <th>y</th>\n",
              "    </tr>\n",
              "  </thead>\n",
              "  <tbody>\n",
              "    <tr>\n",
              "      <th>count</th>\n",
              "      <td>99999</td>\n",
              "      <td>99999.000000</td>\n",
              "      <td>99999.000000</td>\n",
              "      <td>99999</td>\n",
              "      <td>99999</td>\n",
              "      <td>99999</td>\n",
              "      <td>99999</td>\n",
              "      <td>99999</td>\n",
              "      <td>99999</td>\n",
              "      <td>99999</td>\n",
              "      <td>99999</td>\n",
              "      <td>99999</td>\n",
              "      <td>99999.00000</td>\n",
              "      <td>99999.000000</td>\n",
              "      <td>99999.000000</td>\n",
              "      <td>99999.000000</td>\n",
              "      <td>99999.000000</td>\n",
              "      <td>99999.000000</td>\n",
              "      <td>99999.000000</td>\n",
              "      <td>99999.000000</td>\n",
              "      <td>99999.000000</td>\n",
              "      <td>99999.000000</td>\n",
              "      <td>99999.0</td>\n",
              "      <td>99999.000000</td>\n",
              "      <td>99999.000000</td>\n",
              "      <td>99999.000000</td>\n",
              "      <td>99999.000000</td>\n",
              "    </tr>\n",
              "    <tr>\n",
              "      <th>unique</th>\n",
              "      <td>2</td>\n",
              "      <td>NaN</td>\n",
              "      <td>NaN</td>\n",
              "      <td>1485</td>\n",
              "      <td>1331</td>\n",
              "      <td>19</td>\n",
              "      <td>1354</td>\n",
              "      <td>96</td>\n",
              "      <td>21</td>\n",
              "      <td>16801</td>\n",
              "      <td>78013</td>\n",
              "      <td>3145</td>\n",
              "      <td>NaN</td>\n",
              "      <td>NaN</td>\n",
              "      <td>NaN</td>\n",
              "      <td>NaN</td>\n",
              "      <td>NaN</td>\n",
              "      <td>NaN</td>\n",
              "      <td>NaN</td>\n",
              "      <td>NaN</td>\n",
              "      <td>NaN</td>\n",
              "      <td>NaN</td>\n",
              "      <td>NaN</td>\n",
              "      <td>NaN</td>\n",
              "      <td>NaN</td>\n",
              "      <td>NaN</td>\n",
              "      <td>NaN</td>\n",
              "    </tr>\n",
              "    <tr>\n",
              "      <th>top</th>\n",
              "      <td>False</td>\n",
              "      <td>NaN</td>\n",
              "      <td>NaN</td>\n",
              "      <td>85f751fd</td>\n",
              "      <td>c4e18dd6</td>\n",
              "      <td>50e219e0</td>\n",
              "      <td>ecad2386</td>\n",
              "      <td>7801e8d9</td>\n",
              "      <td>07d7df22</td>\n",
              "      <td>a99f214a</td>\n",
              "      <td>6b9769f2</td>\n",
              "      <td>8a4875bd</td>\n",
              "      <td>NaN</td>\n",
              "      <td>NaN</td>\n",
              "      <td>NaN</td>\n",
              "      <td>NaN</td>\n",
              "      <td>NaN</td>\n",
              "      <td>NaN</td>\n",
              "      <td>NaN</td>\n",
              "      <td>NaN</td>\n",
              "      <td>NaN</td>\n",
              "      <td>NaN</td>\n",
              "      <td>NaN</td>\n",
              "      <td>NaN</td>\n",
              "      <td>NaN</td>\n",
              "      <td>NaN</td>\n",
              "      <td>NaN</td>\n",
              "    </tr>\n",
              "    <tr>\n",
              "      <th>freq</th>\n",
              "      <td>83019</td>\n",
              "      <td>NaN</td>\n",
              "      <td>NaN</td>\n",
              "      <td>36022</td>\n",
              "      <td>37362</td>\n",
              "      <td>40839</td>\n",
              "      <td>63977</td>\n",
              "      <td>67464</td>\n",
              "      <td>64769</td>\n",
              "      <td>82579</td>\n",
              "      <td>521</td>\n",
              "      <td>6041</td>\n",
              "      <td>NaN</td>\n",
              "      <td>NaN</td>\n",
              "      <td>NaN</td>\n",
              "      <td>NaN</td>\n",
              "      <td>NaN</td>\n",
              "      <td>NaN</td>\n",
              "      <td>NaN</td>\n",
              "      <td>NaN</td>\n",
              "      <td>NaN</td>\n",
              "      <td>NaN</td>\n",
              "      <td>NaN</td>\n",
              "      <td>NaN</td>\n",
              "      <td>NaN</td>\n",
              "      <td>NaN</td>\n",
              "      <td>NaN</td>\n",
              "    </tr>\n",
              "    <tr>\n",
              "      <th>mean</th>\n",
              "      <td>NaN</td>\n",
              "      <td>1004.967550</td>\n",
              "      <td>0.289943</td>\n",
              "      <td>NaN</td>\n",
              "      <td>NaN</td>\n",
              "      <td>NaN</td>\n",
              "      <td>NaN</td>\n",
              "      <td>NaN</td>\n",
              "      <td>NaN</td>\n",
              "      <td>NaN</td>\n",
              "      <td>NaN</td>\n",
              "      <td>NaN</td>\n",
              "      <td>1.01639</td>\n",
              "      <td>0.329453</td>\n",
              "      <td>18857.231732</td>\n",
              "      <td>318.834548</td>\n",
              "      <td>60.278743</td>\n",
              "      <td>2114.613036</td>\n",
              "      <td>1.439904</td>\n",
              "      <td>227.234932</td>\n",
              "      <td>53292.001950</td>\n",
              "      <td>83.163542</td>\n",
              "      <td>10.0</td>\n",
              "      <td>2.592836</td>\n",
              "      <td>25.485755</td>\n",
              "      <td>11.300673</td>\n",
              "      <td>0.169802</td>\n",
              "    </tr>\n",
              "    <tr>\n",
              "      <th>std</th>\n",
              "      <td>NaN</td>\n",
              "      <td>1.091916</td>\n",
              "      <td>0.505707</td>\n",
              "      <td>NaN</td>\n",
              "      <td>NaN</td>\n",
              "      <td>NaN</td>\n",
              "      <td>NaN</td>\n",
              "      <td>NaN</td>\n",
              "      <td>NaN</td>\n",
              "      <td>NaN</td>\n",
              "      <td>NaN</td>\n",
              "      <td>NaN</td>\n",
              "      <td>0.53110</td>\n",
              "      <td>0.854673</td>\n",
              "      <td>4944.919482</td>\n",
              "      <td>21.510752</td>\n",
              "      <td>47.713436</td>\n",
              "      <td>607.469442</td>\n",
              "      <td>1.326824</td>\n",
              "      <td>351.472366</td>\n",
              "      <td>49952.340367</td>\n",
              "      <td>70.161076</td>\n",
              "      <td>0.0</td>\n",
              "      <td>1.723003</td>\n",
              "      <td>2.968520</td>\n",
              "      <td>5.938725</td>\n",
              "      <td>0.375460</td>\n",
              "    </tr>\n",
              "    <tr>\n",
              "      <th>min</th>\n",
              "      <td>NaN</td>\n",
              "      <td>1001.000000</td>\n",
              "      <td>0.000000</td>\n",
              "      <td>NaN</td>\n",
              "      <td>NaN</td>\n",
              "      <td>NaN</td>\n",
              "      <td>NaN</td>\n",
              "      <td>NaN</td>\n",
              "      <td>NaN</td>\n",
              "      <td>NaN</td>\n",
              "      <td>NaN</td>\n",
              "      <td>NaN</td>\n",
              "      <td>0.00000</td>\n",
              "      <td>0.000000</td>\n",
              "      <td>375.000000</td>\n",
              "      <td>120.000000</td>\n",
              "      <td>20.000000</td>\n",
              "      <td>112.000000</td>\n",
              "      <td>0.000000</td>\n",
              "      <td>33.000000</td>\n",
              "      <td>-1.000000</td>\n",
              "      <td>1.000000</td>\n",
              "      <td>10.0</td>\n",
              "      <td>0.000000</td>\n",
              "      <td>21.000000</td>\n",
              "      <td>0.000000</td>\n",
              "      <td>0.000000</td>\n",
              "    </tr>\n",
              "    <tr>\n",
              "      <th>25%</th>\n",
              "      <td>NaN</td>\n",
              "      <td>1005.000000</td>\n",
              "      <td>0.000000</td>\n",
              "      <td>NaN</td>\n",
              "      <td>NaN</td>\n",
              "      <td>NaN</td>\n",
              "      <td>NaN</td>\n",
              "      <td>NaN</td>\n",
              "      <td>NaN</td>\n",
              "      <td>NaN</td>\n",
              "      <td>NaN</td>\n",
              "      <td>NaN</td>\n",
              "      <td>1.00000</td>\n",
              "      <td>0.000000</td>\n",
              "      <td>16920.000000</td>\n",
              "      <td>320.000000</td>\n",
              "      <td>50.000000</td>\n",
              "      <td>1863.000000</td>\n",
              "      <td>0.000000</td>\n",
              "      <td>35.000000</td>\n",
              "      <td>-1.000000</td>\n",
              "      <td>23.000000</td>\n",
              "      <td>10.0</td>\n",
              "      <td>1.000000</td>\n",
              "      <td>23.000000</td>\n",
              "      <td>7.000000</td>\n",
              "      <td>0.000000</td>\n",
              "    </tr>\n",
              "    <tr>\n",
              "      <th>50%</th>\n",
              "      <td>NaN</td>\n",
              "      <td>1005.000000</td>\n",
              "      <td>0.000000</td>\n",
              "      <td>NaN</td>\n",
              "      <td>NaN</td>\n",
              "      <td>NaN</td>\n",
              "      <td>NaN</td>\n",
              "      <td>NaN</td>\n",
              "      <td>NaN</td>\n",
              "      <td>NaN</td>\n",
              "      <td>NaN</td>\n",
              "      <td>NaN</td>\n",
              "      <td>1.00000</td>\n",
              "      <td>0.000000</td>\n",
              "      <td>20346.000000</td>\n",
              "      <td>320.000000</td>\n",
              "      <td>50.000000</td>\n",
              "      <td>2323.000000</td>\n",
              "      <td>2.000000</td>\n",
              "      <td>39.000000</td>\n",
              "      <td>100050.000000</td>\n",
              "      <td>61.000000</td>\n",
              "      <td>10.0</td>\n",
              "      <td>2.000000</td>\n",
              "      <td>26.000000</td>\n",
              "      <td>11.000000</td>\n",
              "      <td>0.000000</td>\n",
              "    </tr>\n",
              "    <tr>\n",
              "      <th>75%</th>\n",
              "      <td>NaN</td>\n",
              "      <td>1005.000000</td>\n",
              "      <td>1.000000</td>\n",
              "      <td>NaN</td>\n",
              "      <td>NaN</td>\n",
              "      <td>NaN</td>\n",
              "      <td>NaN</td>\n",
              "      <td>NaN</td>\n",
              "      <td>NaN</td>\n",
              "      <td>NaN</td>\n",
              "      <td>NaN</td>\n",
              "      <td>NaN</td>\n",
              "      <td>1.00000</td>\n",
              "      <td>0.000000</td>\n",
              "      <td>21893.000000</td>\n",
              "      <td>320.000000</td>\n",
              "      <td>50.000000</td>\n",
              "      <td>2526.000000</td>\n",
              "      <td>3.000000</td>\n",
              "      <td>171.000000</td>\n",
              "      <td>100093.000000</td>\n",
              "      <td>101.000000</td>\n",
              "      <td>10.0</td>\n",
              "      <td>4.000000</td>\n",
              "      <td>28.000000</td>\n",
              "      <td>16.000000</td>\n",
              "      <td>0.000000</td>\n",
              "    </tr>\n",
              "    <tr>\n",
              "      <th>max</th>\n",
              "      <td>NaN</td>\n",
              "      <td>1012.000000</td>\n",
              "      <td>7.000000</td>\n",
              "      <td>NaN</td>\n",
              "      <td>NaN</td>\n",
              "      <td>NaN</td>\n",
              "      <td>NaN</td>\n",
              "      <td>NaN</td>\n",
              "      <td>NaN</td>\n",
              "      <td>NaN</td>\n",
              "      <td>NaN</td>\n",
              "      <td>NaN</td>\n",
              "      <td>5.00000</td>\n",
              "      <td>5.000000</td>\n",
              "      <td>24043.000000</td>\n",
              "      <td>1024.000000</td>\n",
              "      <td>1024.000000</td>\n",
              "      <td>2757.000000</td>\n",
              "      <td>3.000000</td>\n",
              "      <td>1839.000000</td>\n",
              "      <td>100248.000000</td>\n",
              "      <td>255.000000</td>\n",
              "      <td>10.0</td>\n",
              "      <td>6.000000</td>\n",
              "      <td>30.000000</td>\n",
              "      <td>23.000000</td>\n",
              "      <td>1.000000</td>\n",
              "    </tr>\n",
              "  </tbody>\n",
              "</table>\n",
              "</div>\n",
              "      <button class=\"colab-df-convert\" onclick=\"convertToInteractive('df-fbcb93e3-7710-480d-8eb3-cf2f52eea6a0')\"\n",
              "              title=\"Convert this dataframe to an interactive table.\"\n",
              "              style=\"display:none;\">\n",
              "        \n",
              "  <svg xmlns=\"http://www.w3.org/2000/svg\" height=\"24px\"viewBox=\"0 0 24 24\"\n",
              "       width=\"24px\">\n",
              "    <path d=\"M0 0h24v24H0V0z\" fill=\"none\"/>\n",
              "    <path d=\"M18.56 5.44l.94 2.06.94-2.06 2.06-.94-2.06-.94-.94-2.06-.94 2.06-2.06.94zm-11 1L8.5 8.5l.94-2.06 2.06-.94-2.06-.94L8.5 2.5l-.94 2.06-2.06.94zm10 10l.94 2.06.94-2.06 2.06-.94-2.06-.94-.94-2.06-.94 2.06-2.06.94z\"/><path d=\"M17.41 7.96l-1.37-1.37c-.4-.4-.92-.59-1.43-.59-.52 0-1.04.2-1.43.59L10.3 9.45l-7.72 7.72c-.78.78-.78 2.05 0 2.83L4 21.41c.39.39.9.59 1.41.59.51 0 1.02-.2 1.41-.59l7.78-7.78 2.81-2.81c.8-.78.8-2.07 0-2.86zM5.41 20L4 18.59l7.72-7.72 1.47 1.35L5.41 20z\"/>\n",
              "  </svg>\n",
              "      </button>\n",
              "      \n",
              "  <style>\n",
              "    .colab-df-container {\n",
              "      display:flex;\n",
              "      flex-wrap:wrap;\n",
              "      gap: 12px;\n",
              "    }\n",
              "\n",
              "    .colab-df-convert {\n",
              "      background-color: #E8F0FE;\n",
              "      border: none;\n",
              "      border-radius: 50%;\n",
              "      cursor: pointer;\n",
              "      display: none;\n",
              "      fill: #1967D2;\n",
              "      height: 32px;\n",
              "      padding: 0 0 0 0;\n",
              "      width: 32px;\n",
              "    }\n",
              "\n",
              "    .colab-df-convert:hover {\n",
              "      background-color: #E2EBFA;\n",
              "      box-shadow: 0px 1px 2px rgba(60, 64, 67, 0.3), 0px 1px 3px 1px rgba(60, 64, 67, 0.15);\n",
              "      fill: #174EA6;\n",
              "    }\n",
              "\n",
              "    [theme=dark] .colab-df-convert {\n",
              "      background-color: #3B4455;\n",
              "      fill: #D2E3FC;\n",
              "    }\n",
              "\n",
              "    [theme=dark] .colab-df-convert:hover {\n",
              "      background-color: #434B5C;\n",
              "      box-shadow: 0px 1px 3px 1px rgba(0, 0, 0, 0.15);\n",
              "      filter: drop-shadow(0px 1px 2px rgba(0, 0, 0, 0.3));\n",
              "      fill: #FFFFFF;\n",
              "    }\n",
              "  </style>\n",
              "\n",
              "      <script>\n",
              "        const buttonEl =\n",
              "          document.querySelector('#df-fbcb93e3-7710-480d-8eb3-cf2f52eea6a0 button.colab-df-convert');\n",
              "        buttonEl.style.display =\n",
              "          google.colab.kernel.accessAllowed ? 'block' : 'none';\n",
              "\n",
              "        async function convertToInteractive(key) {\n",
              "          const element = document.querySelector('#df-fbcb93e3-7710-480d-8eb3-cf2f52eea6a0');\n",
              "          const dataTable =\n",
              "            await google.colab.kernel.invokeFunction('convertToInteractive',\n",
              "                                                     [key], {});\n",
              "          if (!dataTable) return;\n",
              "\n",
              "          const docLinkHtml = 'Like what you see? Visit the ' +\n",
              "            '<a target=\"_blank\" href=https://colab.research.google.com/notebooks/data_table.ipynb>data table notebook</a>'\n",
              "            + ' to learn more about interactive tables.';\n",
              "          element.innerHTML = '';\n",
              "          dataTable['output_type'] = 'display_data';\n",
              "          await google.colab.output.renderOutput(dataTable, element);\n",
              "          const docLink = document.createElement('div');\n",
              "          docLink.innerHTML = docLinkHtml;\n",
              "          element.appendChild(docLink);\n",
              "        }\n",
              "      </script>\n",
              "    </div>\n",
              "  </div>\n",
              "  "
            ]
          },
          "metadata": {},
          "execution_count": 225
        }
      ]
    },
    {
      "cell_type": "code",
      "source": [
        ""
      ],
      "metadata": {
        "id": "N_cBpolIFcfn"
      },
      "execution_count": 225,
      "outputs": []
    },
    {
      "cell_type": "markdown",
      "source": [
        "### Changing Data Types\n",
        "####  \"banner_pos\",  and \"C1\", \"device_type\", \"device_conn_type\", \"C14 - C21\", \"month\", \"day of week\", \"day\", hour\" are categorical variables"
      ],
      "metadata": {
        "id": "CYP6u_mIF5rk"
      }
    },
    {
      "cell_type": "code",
      "source": [
        "convert_cols_list = [\"banner_pos\", \"C1\", \"device_type\", \"device_conn_type\", \"C14\", \"C15\", \"C16\", \"C17\", \"C18\", \"C19\", \"C20\", \"C21\", \"month\", \"dayofweek\", \"day\", \"hour\"]"
      ],
      "metadata": {
        "id": "AWK2l-QQHUjq"
      },
      "execution_count": 226,
      "outputs": []
    },
    {
      "cell_type": "code",
      "source": [
        "def convert_datatype(col_list, data):\n",
        "  for col in col_list:\n",
        "    data[col] = data[col].astype('category')\n",
        "  return data\n",
        "\n"
      ],
      "metadata": {
        "id": "2QrkHF5XJxLn"
      },
      "execution_count": 227,
      "outputs": []
    },
    {
      "cell_type": "code",
      "source": [
        "df_new = convert_datatype(convert_cols_list, df)\n",
        "df_new.dtypes"
      ],
      "metadata": {
        "colab": {
          "base_uri": "https://localhost:8080/"
        },
        "id": "3bMBCh9BQOCV",
        "outputId": "6b7a8029-a6b2-4e15-bf8f-d4c3d3d4f1c0"
      },
      "execution_count": 228,
      "outputs": [
        {
          "output_type": "execute_result",
          "data": {
            "text/plain": [
              "click               bool    \n",
              "C1                  category\n",
              "banner_pos          category\n",
              "site_id             object  \n",
              "site_domain         object  \n",
              "site_category       object  \n",
              "app_id              object  \n",
              "app_domain          object  \n",
              "app_category        object  \n",
              "device_id           object  \n",
              "device_ip           object  \n",
              "device_model        object  \n",
              "device_type         category\n",
              "device_conn_type    category\n",
              "C14                 category\n",
              "C15                 category\n",
              "C16                 category\n",
              "C17                 category\n",
              "C18                 category\n",
              "C19                 category\n",
              "C20                 category\n",
              "C21                 category\n",
              "month               category\n",
              "dayofweek           category\n",
              "day                 category\n",
              "hour                category\n",
              "y                   int64   \n",
              "dtype: object"
            ]
          },
          "metadata": {},
          "execution_count": 228
        }
      ]
    },
    {
      "cell_type": "code",
      "source": [
        "df_new.describe(include = 'all')"
      ],
      "metadata": {
        "colab": {
          "base_uri": "https://localhost:8080/",
          "height": 458
        },
        "id": "2bJBT0DOQb6O",
        "outputId": "0c871cdf-b77c-4562-c0d1-51ea09ae337a"
      },
      "execution_count": 229,
      "outputs": [
        {
          "output_type": "execute_result",
          "data": {
            "text/plain": [
              "        click       C1  banner_pos   site_id site_domain site_category    app_id app_domain app_category device_id device_ip device_model  device_type  device_conn_type      C14      C15      C16      C17      C18      C19      C20      C21    month  dayofweek      day     hour             y\n",
              "count   99999  99999.0  99999.0     99999     99999       99999         99999     99999      99999        99999     99999     99999        99999.0      99999.0           99999.0  99999.0  99999.0  99999.0  99999.0  99999.0  99999.0  99999.0  99999.0  99999.0    99999.0  99999.0  99999.000000\n",
              "unique  2      7.0      7.0         1485      1331        19            1354      96         21           16801     78013     3145         4.0          4.0               1722.0   8.0      9.0      399.0    4.0      64.0     154.0    60.0     1.0      7.0        10.0     24.0    NaN          \n",
              "top     False  1005.0   0.0         85f751fd  c4e18dd6    50e219e0      ecad2386  7801e8d9   07d7df22     a99f214a  6b9769f2  8a4875bd     1.0          0.0               4687.0   320.0    50.0     1722.0   0.0      35.0    -1.0      23.0     10.0     1.0        22.0     13.0    NaN          \n",
              "freq    83019  91862.0  71778.0     36022     37362       40839         63977     67464      64769        82579     521       6041         92239.0      86413.0           2306.0   93136.0  94209.0  10991.0  41659.0  29935.0  46767.0  22096.0  99999.0  23269.0    13092.0  5905.0  NaN          \n",
              "mean    NaN   NaN      NaN          NaN       NaN         NaN           NaN       NaN        NaN          NaN       NaN       NaN         NaN          NaN               NaN      NaN      NaN      NaN      NaN      NaN      NaN      NaN      NaN      NaN        NaN      NaN       0.169802    \n",
              "std     NaN   NaN      NaN          NaN       NaN         NaN           NaN       NaN        NaN          NaN       NaN       NaN         NaN          NaN               NaN      NaN      NaN      NaN      NaN      NaN      NaN      NaN      NaN      NaN        NaN      NaN       0.375460    \n",
              "min     NaN   NaN      NaN          NaN       NaN         NaN           NaN       NaN        NaN          NaN       NaN       NaN         NaN          NaN               NaN      NaN      NaN      NaN      NaN      NaN      NaN      NaN      NaN      NaN        NaN      NaN       0.000000    \n",
              "25%     NaN   NaN      NaN          NaN       NaN         NaN           NaN       NaN        NaN          NaN       NaN       NaN         NaN          NaN               NaN      NaN      NaN      NaN      NaN      NaN      NaN      NaN      NaN      NaN        NaN      NaN       0.000000    \n",
              "50%     NaN   NaN      NaN          NaN       NaN         NaN           NaN       NaN        NaN          NaN       NaN       NaN         NaN          NaN               NaN      NaN      NaN      NaN      NaN      NaN      NaN      NaN      NaN      NaN        NaN      NaN       0.000000    \n",
              "75%     NaN   NaN      NaN          NaN       NaN         NaN           NaN       NaN        NaN          NaN       NaN       NaN         NaN          NaN               NaN      NaN      NaN      NaN      NaN      NaN      NaN      NaN      NaN      NaN        NaN      NaN       0.000000    \n",
              "max     NaN   NaN      NaN          NaN       NaN         NaN           NaN       NaN        NaN          NaN       NaN       NaN         NaN          NaN               NaN      NaN      NaN      NaN      NaN      NaN      NaN      NaN      NaN      NaN        NaN      NaN       1.000000    "
            ],
            "text/html": [
              "\n",
              "  <div id=\"df-80fa444b-fd57-4516-a967-b82d88e55ca2\">\n",
              "    <div class=\"colab-df-container\">\n",
              "      <div>\n",
              "<style scoped>\n",
              "    .dataframe tbody tr th:only-of-type {\n",
              "        vertical-align: middle;\n",
              "    }\n",
              "\n",
              "    .dataframe tbody tr th {\n",
              "        vertical-align: top;\n",
              "    }\n",
              "\n",
              "    .dataframe thead th {\n",
              "        text-align: right;\n",
              "    }\n",
              "</style>\n",
              "<table border=\"1\" class=\"dataframe\">\n",
              "  <thead>\n",
              "    <tr style=\"text-align: right;\">\n",
              "      <th></th>\n",
              "      <th>click</th>\n",
              "      <th>C1</th>\n",
              "      <th>banner_pos</th>\n",
              "      <th>site_id</th>\n",
              "      <th>site_domain</th>\n",
              "      <th>site_category</th>\n",
              "      <th>app_id</th>\n",
              "      <th>app_domain</th>\n",
              "      <th>app_category</th>\n",
              "      <th>device_id</th>\n",
              "      <th>device_ip</th>\n",
              "      <th>device_model</th>\n",
              "      <th>device_type</th>\n",
              "      <th>device_conn_type</th>\n",
              "      <th>C14</th>\n",
              "      <th>C15</th>\n",
              "      <th>C16</th>\n",
              "      <th>C17</th>\n",
              "      <th>C18</th>\n",
              "      <th>C19</th>\n",
              "      <th>C20</th>\n",
              "      <th>C21</th>\n",
              "      <th>month</th>\n",
              "      <th>dayofweek</th>\n",
              "      <th>day</th>\n",
              "      <th>hour</th>\n",
              "      <th>y</th>\n",
              "    </tr>\n",
              "  </thead>\n",
              "  <tbody>\n",
              "    <tr>\n",
              "      <th>count</th>\n",
              "      <td>99999</td>\n",
              "      <td>99999.0</td>\n",
              "      <td>99999.0</td>\n",
              "      <td>99999</td>\n",
              "      <td>99999</td>\n",
              "      <td>99999</td>\n",
              "      <td>99999</td>\n",
              "      <td>99999</td>\n",
              "      <td>99999</td>\n",
              "      <td>99999</td>\n",
              "      <td>99999</td>\n",
              "      <td>99999</td>\n",
              "      <td>99999.0</td>\n",
              "      <td>99999.0</td>\n",
              "      <td>99999.0</td>\n",
              "      <td>99999.0</td>\n",
              "      <td>99999.0</td>\n",
              "      <td>99999.0</td>\n",
              "      <td>99999.0</td>\n",
              "      <td>99999.0</td>\n",
              "      <td>99999.0</td>\n",
              "      <td>99999.0</td>\n",
              "      <td>99999.0</td>\n",
              "      <td>99999.0</td>\n",
              "      <td>99999.0</td>\n",
              "      <td>99999.0</td>\n",
              "      <td>99999.000000</td>\n",
              "    </tr>\n",
              "    <tr>\n",
              "      <th>unique</th>\n",
              "      <td>2</td>\n",
              "      <td>7.0</td>\n",
              "      <td>7.0</td>\n",
              "      <td>1485</td>\n",
              "      <td>1331</td>\n",
              "      <td>19</td>\n",
              "      <td>1354</td>\n",
              "      <td>96</td>\n",
              "      <td>21</td>\n",
              "      <td>16801</td>\n",
              "      <td>78013</td>\n",
              "      <td>3145</td>\n",
              "      <td>4.0</td>\n",
              "      <td>4.0</td>\n",
              "      <td>1722.0</td>\n",
              "      <td>8.0</td>\n",
              "      <td>9.0</td>\n",
              "      <td>399.0</td>\n",
              "      <td>4.0</td>\n",
              "      <td>64.0</td>\n",
              "      <td>154.0</td>\n",
              "      <td>60.0</td>\n",
              "      <td>1.0</td>\n",
              "      <td>7.0</td>\n",
              "      <td>10.0</td>\n",
              "      <td>24.0</td>\n",
              "      <td>NaN</td>\n",
              "    </tr>\n",
              "    <tr>\n",
              "      <th>top</th>\n",
              "      <td>False</td>\n",
              "      <td>1005.0</td>\n",
              "      <td>0.0</td>\n",
              "      <td>85f751fd</td>\n",
              "      <td>c4e18dd6</td>\n",
              "      <td>50e219e0</td>\n",
              "      <td>ecad2386</td>\n",
              "      <td>7801e8d9</td>\n",
              "      <td>07d7df22</td>\n",
              "      <td>a99f214a</td>\n",
              "      <td>6b9769f2</td>\n",
              "      <td>8a4875bd</td>\n",
              "      <td>1.0</td>\n",
              "      <td>0.0</td>\n",
              "      <td>4687.0</td>\n",
              "      <td>320.0</td>\n",
              "      <td>50.0</td>\n",
              "      <td>1722.0</td>\n",
              "      <td>0.0</td>\n",
              "      <td>35.0</td>\n",
              "      <td>-1.0</td>\n",
              "      <td>23.0</td>\n",
              "      <td>10.0</td>\n",
              "      <td>1.0</td>\n",
              "      <td>22.0</td>\n",
              "      <td>13.0</td>\n",
              "      <td>NaN</td>\n",
              "    </tr>\n",
              "    <tr>\n",
              "      <th>freq</th>\n",
              "      <td>83019</td>\n",
              "      <td>91862.0</td>\n",
              "      <td>71778.0</td>\n",
              "      <td>36022</td>\n",
              "      <td>37362</td>\n",
              "      <td>40839</td>\n",
              "      <td>63977</td>\n",
              "      <td>67464</td>\n",
              "      <td>64769</td>\n",
              "      <td>82579</td>\n",
              "      <td>521</td>\n",
              "      <td>6041</td>\n",
              "      <td>92239.0</td>\n",
              "      <td>86413.0</td>\n",
              "      <td>2306.0</td>\n",
              "      <td>93136.0</td>\n",
              "      <td>94209.0</td>\n",
              "      <td>10991.0</td>\n",
              "      <td>41659.0</td>\n",
              "      <td>29935.0</td>\n",
              "      <td>46767.0</td>\n",
              "      <td>22096.0</td>\n",
              "      <td>99999.0</td>\n",
              "      <td>23269.0</td>\n",
              "      <td>13092.0</td>\n",
              "      <td>5905.0</td>\n",
              "      <td>NaN</td>\n",
              "    </tr>\n",
              "    <tr>\n",
              "      <th>mean</th>\n",
              "      <td>NaN</td>\n",
              "      <td>NaN</td>\n",
              "      <td>NaN</td>\n",
              "      <td>NaN</td>\n",
              "      <td>NaN</td>\n",
              "      <td>NaN</td>\n",
              "      <td>NaN</td>\n",
              "      <td>NaN</td>\n",
              "      <td>NaN</td>\n",
              "      <td>NaN</td>\n",
              "      <td>NaN</td>\n",
              "      <td>NaN</td>\n",
              "      <td>NaN</td>\n",
              "      <td>NaN</td>\n",
              "      <td>NaN</td>\n",
              "      <td>NaN</td>\n",
              "      <td>NaN</td>\n",
              "      <td>NaN</td>\n",
              "      <td>NaN</td>\n",
              "      <td>NaN</td>\n",
              "      <td>NaN</td>\n",
              "      <td>NaN</td>\n",
              "      <td>NaN</td>\n",
              "      <td>NaN</td>\n",
              "      <td>NaN</td>\n",
              "      <td>NaN</td>\n",
              "      <td>0.169802</td>\n",
              "    </tr>\n",
              "    <tr>\n",
              "      <th>std</th>\n",
              "      <td>NaN</td>\n",
              "      <td>NaN</td>\n",
              "      <td>NaN</td>\n",
              "      <td>NaN</td>\n",
              "      <td>NaN</td>\n",
              "      <td>NaN</td>\n",
              "      <td>NaN</td>\n",
              "      <td>NaN</td>\n",
              "      <td>NaN</td>\n",
              "      <td>NaN</td>\n",
              "      <td>NaN</td>\n",
              "      <td>NaN</td>\n",
              "      <td>NaN</td>\n",
              "      <td>NaN</td>\n",
              "      <td>NaN</td>\n",
              "      <td>NaN</td>\n",
              "      <td>NaN</td>\n",
              "      <td>NaN</td>\n",
              "      <td>NaN</td>\n",
              "      <td>NaN</td>\n",
              "      <td>NaN</td>\n",
              "      <td>NaN</td>\n",
              "      <td>NaN</td>\n",
              "      <td>NaN</td>\n",
              "      <td>NaN</td>\n",
              "      <td>NaN</td>\n",
              "      <td>0.375460</td>\n",
              "    </tr>\n",
              "    <tr>\n",
              "      <th>min</th>\n",
              "      <td>NaN</td>\n",
              "      <td>NaN</td>\n",
              "      <td>NaN</td>\n",
              "      <td>NaN</td>\n",
              "      <td>NaN</td>\n",
              "      <td>NaN</td>\n",
              "      <td>NaN</td>\n",
              "      <td>NaN</td>\n",
              "      <td>NaN</td>\n",
              "      <td>NaN</td>\n",
              "      <td>NaN</td>\n",
              "      <td>NaN</td>\n",
              "      <td>NaN</td>\n",
              "      <td>NaN</td>\n",
              "      <td>NaN</td>\n",
              "      <td>NaN</td>\n",
              "      <td>NaN</td>\n",
              "      <td>NaN</td>\n",
              "      <td>NaN</td>\n",
              "      <td>NaN</td>\n",
              "      <td>NaN</td>\n",
              "      <td>NaN</td>\n",
              "      <td>NaN</td>\n",
              "      <td>NaN</td>\n",
              "      <td>NaN</td>\n",
              "      <td>NaN</td>\n",
              "      <td>0.000000</td>\n",
              "    </tr>\n",
              "    <tr>\n",
              "      <th>25%</th>\n",
              "      <td>NaN</td>\n",
              "      <td>NaN</td>\n",
              "      <td>NaN</td>\n",
              "      <td>NaN</td>\n",
              "      <td>NaN</td>\n",
              "      <td>NaN</td>\n",
              "      <td>NaN</td>\n",
              "      <td>NaN</td>\n",
              "      <td>NaN</td>\n",
              "      <td>NaN</td>\n",
              "      <td>NaN</td>\n",
              "      <td>NaN</td>\n",
              "      <td>NaN</td>\n",
              "      <td>NaN</td>\n",
              "      <td>NaN</td>\n",
              "      <td>NaN</td>\n",
              "      <td>NaN</td>\n",
              "      <td>NaN</td>\n",
              "      <td>NaN</td>\n",
              "      <td>NaN</td>\n",
              "      <td>NaN</td>\n",
              "      <td>NaN</td>\n",
              "      <td>NaN</td>\n",
              "      <td>NaN</td>\n",
              "      <td>NaN</td>\n",
              "      <td>NaN</td>\n",
              "      <td>0.000000</td>\n",
              "    </tr>\n",
              "    <tr>\n",
              "      <th>50%</th>\n",
              "      <td>NaN</td>\n",
              "      <td>NaN</td>\n",
              "      <td>NaN</td>\n",
              "      <td>NaN</td>\n",
              "      <td>NaN</td>\n",
              "      <td>NaN</td>\n",
              "      <td>NaN</td>\n",
              "      <td>NaN</td>\n",
              "      <td>NaN</td>\n",
              "      <td>NaN</td>\n",
              "      <td>NaN</td>\n",
              "      <td>NaN</td>\n",
              "      <td>NaN</td>\n",
              "      <td>NaN</td>\n",
              "      <td>NaN</td>\n",
              "      <td>NaN</td>\n",
              "      <td>NaN</td>\n",
              "      <td>NaN</td>\n",
              "      <td>NaN</td>\n",
              "      <td>NaN</td>\n",
              "      <td>NaN</td>\n",
              "      <td>NaN</td>\n",
              "      <td>NaN</td>\n",
              "      <td>NaN</td>\n",
              "      <td>NaN</td>\n",
              "      <td>NaN</td>\n",
              "      <td>0.000000</td>\n",
              "    </tr>\n",
              "    <tr>\n",
              "      <th>75%</th>\n",
              "      <td>NaN</td>\n",
              "      <td>NaN</td>\n",
              "      <td>NaN</td>\n",
              "      <td>NaN</td>\n",
              "      <td>NaN</td>\n",
              "      <td>NaN</td>\n",
              "      <td>NaN</td>\n",
              "      <td>NaN</td>\n",
              "      <td>NaN</td>\n",
              "      <td>NaN</td>\n",
              "      <td>NaN</td>\n",
              "      <td>NaN</td>\n",
              "      <td>NaN</td>\n",
              "      <td>NaN</td>\n",
              "      <td>NaN</td>\n",
              "      <td>NaN</td>\n",
              "      <td>NaN</td>\n",
              "      <td>NaN</td>\n",
              "      <td>NaN</td>\n",
              "      <td>NaN</td>\n",
              "      <td>NaN</td>\n",
              "      <td>NaN</td>\n",
              "      <td>NaN</td>\n",
              "      <td>NaN</td>\n",
              "      <td>NaN</td>\n",
              "      <td>NaN</td>\n",
              "      <td>0.000000</td>\n",
              "    </tr>\n",
              "    <tr>\n",
              "      <th>max</th>\n",
              "      <td>NaN</td>\n",
              "      <td>NaN</td>\n",
              "      <td>NaN</td>\n",
              "      <td>NaN</td>\n",
              "      <td>NaN</td>\n",
              "      <td>NaN</td>\n",
              "      <td>NaN</td>\n",
              "      <td>NaN</td>\n",
              "      <td>NaN</td>\n",
              "      <td>NaN</td>\n",
              "      <td>NaN</td>\n",
              "      <td>NaN</td>\n",
              "      <td>NaN</td>\n",
              "      <td>NaN</td>\n",
              "      <td>NaN</td>\n",
              "      <td>NaN</td>\n",
              "      <td>NaN</td>\n",
              "      <td>NaN</td>\n",
              "      <td>NaN</td>\n",
              "      <td>NaN</td>\n",
              "      <td>NaN</td>\n",
              "      <td>NaN</td>\n",
              "      <td>NaN</td>\n",
              "      <td>NaN</td>\n",
              "      <td>NaN</td>\n",
              "      <td>NaN</td>\n",
              "      <td>1.000000</td>\n",
              "    </tr>\n",
              "  </tbody>\n",
              "</table>\n",
              "</div>\n",
              "      <button class=\"colab-df-convert\" onclick=\"convertToInteractive('df-80fa444b-fd57-4516-a967-b82d88e55ca2')\"\n",
              "              title=\"Convert this dataframe to an interactive table.\"\n",
              "              style=\"display:none;\">\n",
              "        \n",
              "  <svg xmlns=\"http://www.w3.org/2000/svg\" height=\"24px\"viewBox=\"0 0 24 24\"\n",
              "       width=\"24px\">\n",
              "    <path d=\"M0 0h24v24H0V0z\" fill=\"none\"/>\n",
              "    <path d=\"M18.56 5.44l.94 2.06.94-2.06 2.06-.94-2.06-.94-.94-2.06-.94 2.06-2.06.94zm-11 1L8.5 8.5l.94-2.06 2.06-.94-2.06-.94L8.5 2.5l-.94 2.06-2.06.94zm10 10l.94 2.06.94-2.06 2.06-.94-2.06-.94-.94-2.06-.94 2.06-2.06.94z\"/><path d=\"M17.41 7.96l-1.37-1.37c-.4-.4-.92-.59-1.43-.59-.52 0-1.04.2-1.43.59L10.3 9.45l-7.72 7.72c-.78.78-.78 2.05 0 2.83L4 21.41c.39.39.9.59 1.41.59.51 0 1.02-.2 1.41-.59l7.78-7.78 2.81-2.81c.8-.78.8-2.07 0-2.86zM5.41 20L4 18.59l7.72-7.72 1.47 1.35L5.41 20z\"/>\n",
              "  </svg>\n",
              "      </button>\n",
              "      \n",
              "  <style>\n",
              "    .colab-df-container {\n",
              "      display:flex;\n",
              "      flex-wrap:wrap;\n",
              "      gap: 12px;\n",
              "    }\n",
              "\n",
              "    .colab-df-convert {\n",
              "      background-color: #E8F0FE;\n",
              "      border: none;\n",
              "      border-radius: 50%;\n",
              "      cursor: pointer;\n",
              "      display: none;\n",
              "      fill: #1967D2;\n",
              "      height: 32px;\n",
              "      padding: 0 0 0 0;\n",
              "      width: 32px;\n",
              "    }\n",
              "\n",
              "    .colab-df-convert:hover {\n",
              "      background-color: #E2EBFA;\n",
              "      box-shadow: 0px 1px 2px rgba(60, 64, 67, 0.3), 0px 1px 3px 1px rgba(60, 64, 67, 0.15);\n",
              "      fill: #174EA6;\n",
              "    }\n",
              "\n",
              "    [theme=dark] .colab-df-convert {\n",
              "      background-color: #3B4455;\n",
              "      fill: #D2E3FC;\n",
              "    }\n",
              "\n",
              "    [theme=dark] .colab-df-convert:hover {\n",
              "      background-color: #434B5C;\n",
              "      box-shadow: 0px 1px 3px 1px rgba(0, 0, 0, 0.15);\n",
              "      filter: drop-shadow(0px 1px 2px rgba(0, 0, 0, 0.3));\n",
              "      fill: #FFFFFF;\n",
              "    }\n",
              "  </style>\n",
              "\n",
              "      <script>\n",
              "        const buttonEl =\n",
              "          document.querySelector('#df-80fa444b-fd57-4516-a967-b82d88e55ca2 button.colab-df-convert');\n",
              "        buttonEl.style.display =\n",
              "          google.colab.kernel.accessAllowed ? 'block' : 'none';\n",
              "\n",
              "        async function convertToInteractive(key) {\n",
              "          const element = document.querySelector('#df-80fa444b-fd57-4516-a967-b82d88e55ca2');\n",
              "          const dataTable =\n",
              "            await google.colab.kernel.invokeFunction('convertToInteractive',\n",
              "                                                     [key], {});\n",
              "          if (!dataTable) return;\n",
              "\n",
              "          const docLinkHtml = 'Like what you see? Visit the ' +\n",
              "            '<a target=\"_blank\" href=https://colab.research.google.com/notebooks/data_table.ipynb>data table notebook</a>'\n",
              "            + ' to learn more about interactive tables.';\n",
              "          element.innerHTML = '';\n",
              "          dataTable['output_type'] = 'display_data';\n",
              "          await google.colab.output.renderOutput(dataTable, element);\n",
              "          const docLink = document.createElement('div');\n",
              "          docLink.innerHTML = docLinkHtml;\n",
              "          element.appendChild(docLink);\n",
              "        }\n",
              "      </script>\n",
              "    </div>\n",
              "  </div>\n",
              "  "
            ]
          },
          "metadata": {},
          "execution_count": 229
        }
      ]
    },
    {
      "cell_type": "code",
      "source": [
        ""
      ],
      "metadata": {
        "id": "KYEpm3dW4okY"
      },
      "execution_count": 229,
      "outputs": []
    },
    {
      "cell_type": "markdown",
      "source": [
        "### Check nunique values to see of all categorical features are relavent"
      ],
      "metadata": {
        "id": "SemK5haNRZY1"
      }
    },
    {
      "cell_type": "code",
      "source": [
        "df_nunique = df_new.describe(include = 'all').T.unique\n",
        "df_nunique"
      ],
      "metadata": {
        "colab": {
          "base_uri": "https://localhost:8080/"
        },
        "id": "M4Fy1OaQRCJm",
        "outputId": "cfaaa536-778d-4f6a-993b-39da1dc8a84e"
      },
      "execution_count": 230,
      "outputs": [
        {
          "output_type": "execute_result",
          "data": {
            "text/plain": [
              "click               2     \n",
              "C1                  7.0   \n",
              "banner_pos          7.0   \n",
              "site_id             1485  \n",
              "site_domain         1331  \n",
              "site_category       19    \n",
              "app_id              1354  \n",
              "app_domain          96    \n",
              "app_category        21    \n",
              "device_id           16801 \n",
              "device_ip           78013 \n",
              "device_model        3145  \n",
              "device_type         4.0   \n",
              "device_conn_type    4.0   \n",
              "C14                 1722.0\n",
              "C15                 8.0   \n",
              "C16                 9.0   \n",
              "C17                 399.0 \n",
              "C18                 4.0   \n",
              "C19                 64.0  \n",
              "C20                 154.0 \n",
              "C21                 60.0  \n",
              "month               1.0   \n",
              "dayofweek           7.0   \n",
              "day                 10.0  \n",
              "hour                24.0  \n",
              "y                   NaN   \n",
              "Name: unique, dtype: object"
            ]
          },
          "metadata": {},
          "execution_count": 230
        }
      ]
    },
    {
      "cell_type": "code",
      "source": [
        "df_final = df_new.drop(columns=[\"click\", \"device_ip\", \"month\"])\n"
      ],
      "metadata": {
        "id": "gNdZbSQEWiMk"
      },
      "execution_count": 231,
      "outputs": []
    },
    {
      "cell_type": "code",
      "source": [
        "df_final.dropna(inplace=True)"
      ],
      "metadata": {
        "id": "ZSw23QNTp6Ei"
      },
      "execution_count": 232,
      "outputs": []
    },
    {
      "cell_type": "code",
      "source": [
        "df_final.shape"
      ],
      "metadata": {
        "colab": {
          "base_uri": "https://localhost:8080/"
        },
        "id": "biqtVYPqqHCy",
        "outputId": "a2da2403-63d9-488b-b2b1-74a133ac7dc2"
      },
      "execution_count": 233,
      "outputs": [
        {
          "output_type": "execute_result",
          "data": {
            "text/plain": [
              "(99999, 24)"
            ]
          },
          "metadata": {},
          "execution_count": 233
        }
      ]
    },
    {
      "cell_type": "code",
      "source": [
        "df_final[\"y\"] = df_final[\"y\"].astype(int)"
      ],
      "metadata": {
        "id": "8NSZlHP8qJZY"
      },
      "execution_count": 234,
      "outputs": []
    },
    {
      "cell_type": "code",
      "source": [
        "from feature_selector import FeatureSelector"
      ],
      "metadata": {
        "id": "prvzmeiWra0M"
      },
      "execution_count": 235,
      "outputs": []
    },
    {
      "cell_type": "code",
      "source": [
        "fs = FeatureSelector(data = df_final[df_final.columns[:-1]], labels = df[\"y\"])"
      ],
      "metadata": {
        "id": "Txih2l9eqLIH"
      },
      "execution_count": 236,
      "outputs": []
    },
    {
      "cell_type": "code",
      "source": [
        "fs.identify_single_unique()\n"
      ],
      "metadata": {
        "colab": {
          "base_uri": "https://localhost:8080/"
        },
        "id": "FrTtyjxTqlwF",
        "outputId": "f2e14c87-b8d9-4545-8f49-ce5b0cf1c5f9"
      },
      "execution_count": 237,
      "outputs": [
        {
          "output_type": "stream",
          "name": "stdout",
          "text": [
            "0 features with a single unique value.\n",
            "\n"
          ]
        }
      ]
    },
    {
      "cell_type": "code",
      "source": [
        "single_unique = fs.ops['single_unique']\n",
        "single_unique"
      ],
      "metadata": {
        "colab": {
          "base_uri": "https://localhost:8080/"
        },
        "id": "lwxo4BT5rkAo",
        "outputId": "dcf5aab9-d7c2-4e64-da60-024105f039b7"
      },
      "execution_count": 238,
      "outputs": [
        {
          "output_type": "execute_result",
          "data": {
            "text/plain": [
              "[]"
            ]
          },
          "metadata": {},
          "execution_count": 238
        }
      ]
    },
    {
      "cell_type": "code",
      "source": [
        "fs.unique_stats.sample(5)"
      ],
      "metadata": {
        "colab": {
          "base_uri": "https://localhost:8080/",
          "height": 206
        },
        "id": "v204QzyHrnwM",
        "outputId": "48969cad-310f-4df5-c16f-d3d86efc42ce"
      },
      "execution_count": 239,
      "outputs": [
        {
          "output_type": "execute_result",
          "data": {
            "text/plain": [
              "             nunique\n",
              "C1           7      \n",
              "C19          64     \n",
              "banner_pos   7      \n",
              "day          10     \n",
              "device_type  4      "
            ],
            "text/html": [
              "\n",
              "  <div id=\"df-72ca4829-174a-4051-8c61-4508b81f2b5d\">\n",
              "    <div class=\"colab-df-container\">\n",
              "      <div>\n",
              "<style scoped>\n",
              "    .dataframe tbody tr th:only-of-type {\n",
              "        vertical-align: middle;\n",
              "    }\n",
              "\n",
              "    .dataframe tbody tr th {\n",
              "        vertical-align: top;\n",
              "    }\n",
              "\n",
              "    .dataframe thead th {\n",
              "        text-align: right;\n",
              "    }\n",
              "</style>\n",
              "<table border=\"1\" class=\"dataframe\">\n",
              "  <thead>\n",
              "    <tr style=\"text-align: right;\">\n",
              "      <th></th>\n",
              "      <th>nunique</th>\n",
              "    </tr>\n",
              "  </thead>\n",
              "  <tbody>\n",
              "    <tr>\n",
              "      <th>C1</th>\n",
              "      <td>7</td>\n",
              "    </tr>\n",
              "    <tr>\n",
              "      <th>C19</th>\n",
              "      <td>64</td>\n",
              "    </tr>\n",
              "    <tr>\n",
              "      <th>banner_pos</th>\n",
              "      <td>7</td>\n",
              "    </tr>\n",
              "    <tr>\n",
              "      <th>day</th>\n",
              "      <td>10</td>\n",
              "    </tr>\n",
              "    <tr>\n",
              "      <th>device_type</th>\n",
              "      <td>4</td>\n",
              "    </tr>\n",
              "  </tbody>\n",
              "</table>\n",
              "</div>\n",
              "      <button class=\"colab-df-convert\" onclick=\"convertToInteractive('df-72ca4829-174a-4051-8c61-4508b81f2b5d')\"\n",
              "              title=\"Convert this dataframe to an interactive table.\"\n",
              "              style=\"display:none;\">\n",
              "        \n",
              "  <svg xmlns=\"http://www.w3.org/2000/svg\" height=\"24px\"viewBox=\"0 0 24 24\"\n",
              "       width=\"24px\">\n",
              "    <path d=\"M0 0h24v24H0V0z\" fill=\"none\"/>\n",
              "    <path d=\"M18.56 5.44l.94 2.06.94-2.06 2.06-.94-2.06-.94-.94-2.06-.94 2.06-2.06.94zm-11 1L8.5 8.5l.94-2.06 2.06-.94-2.06-.94L8.5 2.5l-.94 2.06-2.06.94zm10 10l.94 2.06.94-2.06 2.06-.94-2.06-.94-.94-2.06-.94 2.06-2.06.94z\"/><path d=\"M17.41 7.96l-1.37-1.37c-.4-.4-.92-.59-1.43-.59-.52 0-1.04.2-1.43.59L10.3 9.45l-7.72 7.72c-.78.78-.78 2.05 0 2.83L4 21.41c.39.39.9.59 1.41.59.51 0 1.02-.2 1.41-.59l7.78-7.78 2.81-2.81c.8-.78.8-2.07 0-2.86zM5.41 20L4 18.59l7.72-7.72 1.47 1.35L5.41 20z\"/>\n",
              "  </svg>\n",
              "      </button>\n",
              "      \n",
              "  <style>\n",
              "    .colab-df-container {\n",
              "      display:flex;\n",
              "      flex-wrap:wrap;\n",
              "      gap: 12px;\n",
              "    }\n",
              "\n",
              "    .colab-df-convert {\n",
              "      background-color: #E8F0FE;\n",
              "      border: none;\n",
              "      border-radius: 50%;\n",
              "      cursor: pointer;\n",
              "      display: none;\n",
              "      fill: #1967D2;\n",
              "      height: 32px;\n",
              "      padding: 0 0 0 0;\n",
              "      width: 32px;\n",
              "    }\n",
              "\n",
              "    .colab-df-convert:hover {\n",
              "      background-color: #E2EBFA;\n",
              "      box-shadow: 0px 1px 2px rgba(60, 64, 67, 0.3), 0px 1px 3px 1px rgba(60, 64, 67, 0.15);\n",
              "      fill: #174EA6;\n",
              "    }\n",
              "\n",
              "    [theme=dark] .colab-df-convert {\n",
              "      background-color: #3B4455;\n",
              "      fill: #D2E3FC;\n",
              "    }\n",
              "\n",
              "    [theme=dark] .colab-df-convert:hover {\n",
              "      background-color: #434B5C;\n",
              "      box-shadow: 0px 1px 3px 1px rgba(0, 0, 0, 0.15);\n",
              "      filter: drop-shadow(0px 1px 2px rgba(0, 0, 0, 0.3));\n",
              "      fill: #FFFFFF;\n",
              "    }\n",
              "  </style>\n",
              "\n",
              "      <script>\n",
              "        const buttonEl =\n",
              "          document.querySelector('#df-72ca4829-174a-4051-8c61-4508b81f2b5d button.colab-df-convert');\n",
              "        buttonEl.style.display =\n",
              "          google.colab.kernel.accessAllowed ? 'block' : 'none';\n",
              "\n",
              "        async function convertToInteractive(key) {\n",
              "          const element = document.querySelector('#df-72ca4829-174a-4051-8c61-4508b81f2b5d');\n",
              "          const dataTable =\n",
              "            await google.colab.kernel.invokeFunction('convertToInteractive',\n",
              "                                                     [key], {});\n",
              "          if (!dataTable) return;\n",
              "\n",
              "          const docLinkHtml = 'Like what you see? Visit the ' +\n",
              "            '<a target=\"_blank\" href=https://colab.research.google.com/notebooks/data_table.ipynb>data table notebook</a>'\n",
              "            + ' to learn more about interactive tables.';\n",
              "          element.innerHTML = '';\n",
              "          dataTable['output_type'] = 'display_data';\n",
              "          await google.colab.output.renderOutput(dataTable, element);\n",
              "          const docLink = document.createElement('div');\n",
              "          docLink.innerHTML = docLinkHtml;\n",
              "          element.appendChild(docLink);\n",
              "        }\n",
              "      </script>\n",
              "    </div>\n",
              "  </div>\n",
              "  "
            ]
          },
          "metadata": {},
          "execution_count": 239
        }
      ]
    },
    {
      "cell_type": "code",
      "source": [
        "\n",
        "fs.identify_collinear(correlation_threshold=0.975)"
      ],
      "metadata": {
        "colab": {
          "base_uri": "https://localhost:8080/"
        },
        "id": "4pEvWySKrsB2",
        "outputId": "b95aba1a-f604-4695-c644-72599110d0e9"
      },
      "execution_count": 240,
      "outputs": [
        {
          "output_type": "stream",
          "name": "stdout",
          "text": [
            "0 features with a correlation magnitude greater than 0.97.\n",
            "\n"
          ]
        }
      ]
    },
    {
      "cell_type": "code",
      "source": [
        "correlated_features = fs.ops['collinear']\n",
        "correlated_features[:5]"
      ],
      "metadata": {
        "colab": {
          "base_uri": "https://localhost:8080/"
        },
        "id": "3qF7vId3rz5V",
        "outputId": "0b7d1e89-43dd-4720-8a06-b839e86ea074"
      },
      "execution_count": 241,
      "outputs": [
        {
          "output_type": "execute_result",
          "data": {
            "text/plain": [
              "[]"
            ]
          },
          "metadata": {},
          "execution_count": 241
        }
      ]
    },
    {
      "cell_type": "code",
      "source": [
        "!pip install category-encoders"
      ],
      "metadata": {
        "colab": {
          "base_uri": "https://localhost:8080/"
        },
        "id": "_2kyTfD8sC0_",
        "outputId": "66b9e080-aa04-42ef-87eb-7417c0c5daa1"
      },
      "execution_count": 242,
      "outputs": [
        {
          "output_type": "stream",
          "name": "stdout",
          "text": [
            "Looking in indexes: https://pypi.org/simple, https://us-python.pkg.dev/colab-wheels/public/simple/\n",
            "Requirement already satisfied: category-encoders in /usr/local/lib/python3.7/dist-packages (2.4.1)\n",
            "Requirement already satisfied: statsmodels>=0.9.0 in /usr/local/lib/python3.7/dist-packages (from category-encoders) (0.10.2)\n",
            "Requirement already satisfied: scipy>=1.0.0 in /usr/local/lib/python3.7/dist-packages (from category-encoders) (1.4.1)\n",
            "Requirement already satisfied: patsy>=0.5.1 in /usr/local/lib/python3.7/dist-packages (from category-encoders) (0.5.2)\n",
            "Requirement already satisfied: pandas>=0.21.1 in /usr/local/lib/python3.7/dist-packages (from category-encoders) (1.3.5)\n",
            "Requirement already satisfied: numpy>=1.14.0 in /usr/local/lib/python3.7/dist-packages (from category-encoders) (1.21.6)\n",
            "Requirement already satisfied: scikit-learn>=0.20.0 in /usr/local/lib/python3.7/dist-packages (from category-encoders) (1.0.2)\n",
            "Requirement already satisfied: pytz>=2017.3 in /usr/local/lib/python3.7/dist-packages (from pandas>=0.21.1->category-encoders) (2022.1)\n",
            "Requirement already satisfied: python-dateutil>=2.7.3 in /usr/local/lib/python3.7/dist-packages (from pandas>=0.21.1->category-encoders) (2.8.2)\n",
            "Requirement already satisfied: six in /usr/local/lib/python3.7/dist-packages (from patsy>=0.5.1->category-encoders) (1.15.0)\n",
            "Requirement already satisfied: threadpoolctl>=2.0.0 in /usr/local/lib/python3.7/dist-packages (from scikit-learn>=0.20.0->category-encoders) (3.1.0)\n",
            "Requirement already satisfied: joblib>=0.11 in /usr/local/lib/python3.7/dist-packages (from scikit-learn>=0.20.0->category-encoders) (1.1.0)\n"
          ]
        }
      ]
    },
    {
      "cell_type": "code",
      "source": [
        "pip install -U imbalanced-learn"
      ],
      "metadata": {
        "colab": {
          "base_uri": "https://localhost:8080/"
        },
        "id": "PHSr3a8z1n7h",
        "outputId": "58ef2166-3ccb-434f-9e41-7fe47b96cde9"
      },
      "execution_count": 243,
      "outputs": [
        {
          "output_type": "stream",
          "name": "stdout",
          "text": [
            "Looking in indexes: https://pypi.org/simple, https://us-python.pkg.dev/colab-wheels/public/simple/\n",
            "Requirement already satisfied: imbalanced-learn in /usr/local/lib/python3.7/dist-packages (0.9.0)\n",
            "Collecting imbalanced-learn\n",
            "  Using cached imbalanced_learn-0.9.1-py3-none-any.whl (199 kB)\n",
            "Requirement already satisfied: threadpoolctl>=2.0.0 in /usr/local/lib/python3.7/dist-packages (from imbalanced-learn) (3.1.0)\n",
            "Requirement already satisfied: scipy>=1.3.2 in /usr/local/lib/python3.7/dist-packages (from imbalanced-learn) (1.4.1)\n",
            "Requirement already satisfied: numpy>=1.17.3 in /usr/local/lib/python3.7/dist-packages (from imbalanced-learn) (1.21.6)\n",
            "Requirement already satisfied: scikit-learn>=1.0.1 in /usr/local/lib/python3.7/dist-packages (from imbalanced-learn) (1.0.2)\n",
            "Requirement already satisfied: joblib>=0.11 in /usr/local/lib/python3.7/dist-packages (from imbalanced-learn) (1.1.0)\n"
          ]
        }
      ]
    },
    {
      "cell_type": "code",
      "source": [
        "import category_encoders as ce\n",
        "from sklearn.model_selection import train_test_split"
      ],
      "metadata": {
        "id": "wBVF1_kXs0Fg"
      },
      "execution_count": 244,
      "outputs": []
    },
    {
      "cell_type": "code",
      "source": [
        "X_train, X_test, y_train, y_test = train_test_split(df_final[df_final.columns[:-1]], df_final[\"y\"], test_size = 0.25, random_state = 42,  stratify = df_final[\"y\"])\n",
        "print(\"Data Split --------------------->> X_train, X_test, y_train, y_test\")\n",
        "    \n",
        "from imblearn.over_sampling import RandomOverSampler\n",
        "randomsample=  RandomOverSampler()\n",
        "X_train,y_train=randomsample.fit_resample(X_train,y_train)"
      ],
      "metadata": {
        "colab": {
          "base_uri": "https://localhost:8080/"
        },
        "id": "vKfAs6x0s7xg",
        "outputId": "6af25677-7676-4a11-ff9d-d953c3b21a48"
      },
      "execution_count": 245,
      "outputs": [
        {
          "output_type": "stream",
          "name": "stdout",
          "text": [
            "Data Split --------------------->> X_train, X_test, y_train, y_test\n"
          ]
        }
      ]
    },
    {
      "cell_type": "code",
      "source": [
        "import category_encoders as ce\n",
        "target_encoder = ce.TargetEncoder()"
      ],
      "metadata": {
        "id": "OzrJGcbA1yiJ"
      },
      "execution_count": 246,
      "outputs": []
    },
    {
      "cell_type": "code",
      "source": [
        "\n",
        "te = target_encoder.fit(X_train, y_train)"
      ],
      "metadata": {
        "id": "1sqsNijs1yrC"
      },
      "execution_count": 247,
      "outputs": []
    },
    {
      "cell_type": "code",
      "source": [
        "te.get_feature_names()"
      ],
      "metadata": {
        "colab": {
          "base_uri": "https://localhost:8080/"
        },
        "id": "OD2ZnVgJ4ZKB",
        "outputId": "6144a927-2f78-46bb-da10-d434a633f37a"
      },
      "execution_count": 248,
      "outputs": [
        {
          "output_type": "execute_result",
          "data": {
            "text/plain": [
              "['C1',\n",
              " 'banner_pos',\n",
              " 'site_id',\n",
              " 'site_domain',\n",
              " 'site_category',\n",
              " 'app_id',\n",
              " 'app_domain',\n",
              " 'app_category',\n",
              " 'device_id',\n",
              " 'device_model',\n",
              " 'device_type',\n",
              " 'device_conn_type',\n",
              " 'C14',\n",
              " 'C15',\n",
              " 'C16',\n",
              " 'C17',\n",
              " 'C18',\n",
              " 'C19',\n",
              " 'C20',\n",
              " 'C21',\n",
              " 'dayofweek',\n",
              " 'day',\n",
              " 'hour']"
            ]
          },
          "metadata": {},
          "execution_count": 248
        }
      ]
    },
    {
      "cell_type": "code",
      "source": [
        "te.transform(X_train, y_train)"
      ],
      "metadata": {
        "colab": {
          "base_uri": "https://localhost:8080/",
          "height": 488
        },
        "id": "6aiNmyGa3YhB",
        "outputId": "4382a4a5-f7c4-4118-cb8d-fd733fb2331d"
      },
      "execution_count": 249,
      "outputs": [
        {
          "output_type": "execute_result",
          "data": {
            "text/plain": [
              "              C1  banner_pos   site_id  site_domain  site_category    app_id  app_domain  app_category  device_id  device_model  device_type  device_conn_type       C14       C15       C16       C17       C18       C19       C20       C21  dayofweek       day      hour\n",
              "0       0.498007  0.491486    0.397590  0.407381     0.421712       0.226415  0.221227    0.357250      0.50577    0.315789      0.498001     0.420960          0.234767  0.478160  0.478171  0.274744  0.475976  0.439056  0.538281  0.502298  0.480599   0.461553  0.496684\n",
              "1       0.498007  0.520408    0.397590  0.407381     0.421712       0.227907  0.445818    0.357250      0.50000    0.603774      0.498001     0.520059          0.023713  0.738180  0.478171  0.425676  0.458313  0.469027  0.538281  0.570336  0.480599   0.461553  0.484558\n",
              "2       0.498007  0.520408    0.662099  0.661492     0.514813       0.547151  0.541649    0.548668      0.50577    0.500000      0.498001     0.520059          0.771357  0.478160  0.478171  0.753567  0.671839  0.748768  0.538281  0.770668  0.519928   0.519928  0.493777\n",
              "3       0.329252  0.520408    0.397590  0.407381     0.421712       0.141176  0.541649    0.357250      0.50000    0.400012      0.328488     0.520059          0.351351  0.170732  0.170732  0.393478  0.458313  0.493826  0.538281  0.393051  0.480599   0.503742  0.515824\n",
              "4       0.498007  0.491486    0.555138  0.555138     0.559416       0.547151  0.541649    0.548668      0.50577    0.590692      0.498001     0.520059          0.485577  0.478160  0.478171  0.510067  0.475976  0.493826  0.538281  0.520879  0.480599   0.461553  0.494668\n",
              "...          ...       ...         ...       ...          ...            ...       ...         ...          ...         ...           ...          ...               ...       ...       ...       ...       ...       ...       ...       ...       ...        ...       ...\n",
              "124523  0.498007  0.520408    0.673687  0.630952     0.514813       0.547151  0.541649    0.548668      0.50577    0.533597      0.498001     0.520059          0.709111  0.478160  0.478171  0.663437  0.458313  0.613205  0.538281  0.570336  0.519928   0.519928  0.471536\n",
              "124524  0.498007  0.491486    0.806663  0.809483     0.661517       0.547151  0.541649    0.548668      0.50577    0.572327      0.498001     0.520059          0.785761  0.738180  0.782743  0.772517  0.671839  0.613205  0.569363  0.770668  0.480599   0.503742  0.479033\n",
              "124525  0.498007  0.491486    0.555138  0.555138     0.559416       0.547151  0.541649    0.548668      0.50577    0.436364      0.498001     0.520059          0.443878  0.478160  0.478171  0.535454  0.475976  0.493826  0.538281  0.532883  0.519928   0.519928  0.522664\n",
              "124526  0.498007  0.520408    0.603376  0.603376     0.514813       0.547151  0.541649    0.548668      0.50577    0.543611      0.498001     0.520059          0.589286  0.478160  0.478171  0.562780  0.671839  0.500000  0.538281  0.570336  0.522887   0.522887  0.479033\n",
              "124527  0.498007  0.491486    0.397590  0.407381     0.421712       0.535895  0.535752    0.357250      0.50577    0.647779      0.498001     0.520059          0.633489  0.478160  0.478171  0.627282  0.458313  0.613205  0.538281  0.570336  0.480599   0.461553  0.512128\n",
              "\n",
              "[124528 rows x 23 columns]"
            ],
            "text/html": [
              "\n",
              "  <div id=\"df-1f8e50ee-5791-4c7a-9f6e-aac0340da6cf\">\n",
              "    <div class=\"colab-df-container\">\n",
              "      <div>\n",
              "<style scoped>\n",
              "    .dataframe tbody tr th:only-of-type {\n",
              "        vertical-align: middle;\n",
              "    }\n",
              "\n",
              "    .dataframe tbody tr th {\n",
              "        vertical-align: top;\n",
              "    }\n",
              "\n",
              "    .dataframe thead th {\n",
              "        text-align: right;\n",
              "    }\n",
              "</style>\n",
              "<table border=\"1\" class=\"dataframe\">\n",
              "  <thead>\n",
              "    <tr style=\"text-align: right;\">\n",
              "      <th></th>\n",
              "      <th>C1</th>\n",
              "      <th>banner_pos</th>\n",
              "      <th>site_id</th>\n",
              "      <th>site_domain</th>\n",
              "      <th>site_category</th>\n",
              "      <th>app_id</th>\n",
              "      <th>app_domain</th>\n",
              "      <th>app_category</th>\n",
              "      <th>device_id</th>\n",
              "      <th>device_model</th>\n",
              "      <th>device_type</th>\n",
              "      <th>device_conn_type</th>\n",
              "      <th>C14</th>\n",
              "      <th>C15</th>\n",
              "      <th>C16</th>\n",
              "      <th>C17</th>\n",
              "      <th>C18</th>\n",
              "      <th>C19</th>\n",
              "      <th>C20</th>\n",
              "      <th>C21</th>\n",
              "      <th>dayofweek</th>\n",
              "      <th>day</th>\n",
              "      <th>hour</th>\n",
              "    </tr>\n",
              "  </thead>\n",
              "  <tbody>\n",
              "    <tr>\n",
              "      <th>0</th>\n",
              "      <td>0.498007</td>\n",
              "      <td>0.491486</td>\n",
              "      <td>0.397590</td>\n",
              "      <td>0.407381</td>\n",
              "      <td>0.421712</td>\n",
              "      <td>0.226415</td>\n",
              "      <td>0.221227</td>\n",
              "      <td>0.357250</td>\n",
              "      <td>0.50577</td>\n",
              "      <td>0.315789</td>\n",
              "      <td>0.498001</td>\n",
              "      <td>0.420960</td>\n",
              "      <td>0.234767</td>\n",
              "      <td>0.478160</td>\n",
              "      <td>0.478171</td>\n",
              "      <td>0.274744</td>\n",
              "      <td>0.475976</td>\n",
              "      <td>0.439056</td>\n",
              "      <td>0.538281</td>\n",
              "      <td>0.502298</td>\n",
              "      <td>0.480599</td>\n",
              "      <td>0.461553</td>\n",
              "      <td>0.496684</td>\n",
              "    </tr>\n",
              "    <tr>\n",
              "      <th>1</th>\n",
              "      <td>0.498007</td>\n",
              "      <td>0.520408</td>\n",
              "      <td>0.397590</td>\n",
              "      <td>0.407381</td>\n",
              "      <td>0.421712</td>\n",
              "      <td>0.227907</td>\n",
              "      <td>0.445818</td>\n",
              "      <td>0.357250</td>\n",
              "      <td>0.50000</td>\n",
              "      <td>0.603774</td>\n",
              "      <td>0.498001</td>\n",
              "      <td>0.520059</td>\n",
              "      <td>0.023713</td>\n",
              "      <td>0.738180</td>\n",
              "      <td>0.478171</td>\n",
              "      <td>0.425676</td>\n",
              "      <td>0.458313</td>\n",
              "      <td>0.469027</td>\n",
              "      <td>0.538281</td>\n",
              "      <td>0.570336</td>\n",
              "      <td>0.480599</td>\n",
              "      <td>0.461553</td>\n",
              "      <td>0.484558</td>\n",
              "    </tr>\n",
              "    <tr>\n",
              "      <th>2</th>\n",
              "      <td>0.498007</td>\n",
              "      <td>0.520408</td>\n",
              "      <td>0.662099</td>\n",
              "      <td>0.661492</td>\n",
              "      <td>0.514813</td>\n",
              "      <td>0.547151</td>\n",
              "      <td>0.541649</td>\n",
              "      <td>0.548668</td>\n",
              "      <td>0.50577</td>\n",
              "      <td>0.500000</td>\n",
              "      <td>0.498001</td>\n",
              "      <td>0.520059</td>\n",
              "      <td>0.771357</td>\n",
              "      <td>0.478160</td>\n",
              "      <td>0.478171</td>\n",
              "      <td>0.753567</td>\n",
              "      <td>0.671839</td>\n",
              "      <td>0.748768</td>\n",
              "      <td>0.538281</td>\n",
              "      <td>0.770668</td>\n",
              "      <td>0.519928</td>\n",
              "      <td>0.519928</td>\n",
              "      <td>0.493777</td>\n",
              "    </tr>\n",
              "    <tr>\n",
              "      <th>3</th>\n",
              "      <td>0.329252</td>\n",
              "      <td>0.520408</td>\n",
              "      <td>0.397590</td>\n",
              "      <td>0.407381</td>\n",
              "      <td>0.421712</td>\n",
              "      <td>0.141176</td>\n",
              "      <td>0.541649</td>\n",
              "      <td>0.357250</td>\n",
              "      <td>0.50000</td>\n",
              "      <td>0.400012</td>\n",
              "      <td>0.328488</td>\n",
              "      <td>0.520059</td>\n",
              "      <td>0.351351</td>\n",
              "      <td>0.170732</td>\n",
              "      <td>0.170732</td>\n",
              "      <td>0.393478</td>\n",
              "      <td>0.458313</td>\n",
              "      <td>0.493826</td>\n",
              "      <td>0.538281</td>\n",
              "      <td>0.393051</td>\n",
              "      <td>0.480599</td>\n",
              "      <td>0.503742</td>\n",
              "      <td>0.515824</td>\n",
              "    </tr>\n",
              "    <tr>\n",
              "      <th>4</th>\n",
              "      <td>0.498007</td>\n",
              "      <td>0.491486</td>\n",
              "      <td>0.555138</td>\n",
              "      <td>0.555138</td>\n",
              "      <td>0.559416</td>\n",
              "      <td>0.547151</td>\n",
              "      <td>0.541649</td>\n",
              "      <td>0.548668</td>\n",
              "      <td>0.50577</td>\n",
              "      <td>0.590692</td>\n",
              "      <td>0.498001</td>\n",
              "      <td>0.520059</td>\n",
              "      <td>0.485577</td>\n",
              "      <td>0.478160</td>\n",
              "      <td>0.478171</td>\n",
              "      <td>0.510067</td>\n",
              "      <td>0.475976</td>\n",
              "      <td>0.493826</td>\n",
              "      <td>0.538281</td>\n",
              "      <td>0.520879</td>\n",
              "      <td>0.480599</td>\n",
              "      <td>0.461553</td>\n",
              "      <td>0.494668</td>\n",
              "    </tr>\n",
              "    <tr>\n",
              "      <th>...</th>\n",
              "      <td>...</td>\n",
              "      <td>...</td>\n",
              "      <td>...</td>\n",
              "      <td>...</td>\n",
              "      <td>...</td>\n",
              "      <td>...</td>\n",
              "      <td>...</td>\n",
              "      <td>...</td>\n",
              "      <td>...</td>\n",
              "      <td>...</td>\n",
              "      <td>...</td>\n",
              "      <td>...</td>\n",
              "      <td>...</td>\n",
              "      <td>...</td>\n",
              "      <td>...</td>\n",
              "      <td>...</td>\n",
              "      <td>...</td>\n",
              "      <td>...</td>\n",
              "      <td>...</td>\n",
              "      <td>...</td>\n",
              "      <td>...</td>\n",
              "      <td>...</td>\n",
              "      <td>...</td>\n",
              "    </tr>\n",
              "    <tr>\n",
              "      <th>124523</th>\n",
              "      <td>0.498007</td>\n",
              "      <td>0.520408</td>\n",
              "      <td>0.673687</td>\n",
              "      <td>0.630952</td>\n",
              "      <td>0.514813</td>\n",
              "      <td>0.547151</td>\n",
              "      <td>0.541649</td>\n",
              "      <td>0.548668</td>\n",
              "      <td>0.50577</td>\n",
              "      <td>0.533597</td>\n",
              "      <td>0.498001</td>\n",
              "      <td>0.520059</td>\n",
              "      <td>0.709111</td>\n",
              "      <td>0.478160</td>\n",
              "      <td>0.478171</td>\n",
              "      <td>0.663437</td>\n",
              "      <td>0.458313</td>\n",
              "      <td>0.613205</td>\n",
              "      <td>0.538281</td>\n",
              "      <td>0.570336</td>\n",
              "      <td>0.519928</td>\n",
              "      <td>0.519928</td>\n",
              "      <td>0.471536</td>\n",
              "    </tr>\n",
              "    <tr>\n",
              "      <th>124524</th>\n",
              "      <td>0.498007</td>\n",
              "      <td>0.491486</td>\n",
              "      <td>0.806663</td>\n",
              "      <td>0.809483</td>\n",
              "      <td>0.661517</td>\n",
              "      <td>0.547151</td>\n",
              "      <td>0.541649</td>\n",
              "      <td>0.548668</td>\n",
              "      <td>0.50577</td>\n",
              "      <td>0.572327</td>\n",
              "      <td>0.498001</td>\n",
              "      <td>0.520059</td>\n",
              "      <td>0.785761</td>\n",
              "      <td>0.738180</td>\n",
              "      <td>0.782743</td>\n",
              "      <td>0.772517</td>\n",
              "      <td>0.671839</td>\n",
              "      <td>0.613205</td>\n",
              "      <td>0.569363</td>\n",
              "      <td>0.770668</td>\n",
              "      <td>0.480599</td>\n",
              "      <td>0.503742</td>\n",
              "      <td>0.479033</td>\n",
              "    </tr>\n",
              "    <tr>\n",
              "      <th>124525</th>\n",
              "      <td>0.498007</td>\n",
              "      <td>0.491486</td>\n",
              "      <td>0.555138</td>\n",
              "      <td>0.555138</td>\n",
              "      <td>0.559416</td>\n",
              "      <td>0.547151</td>\n",
              "      <td>0.541649</td>\n",
              "      <td>0.548668</td>\n",
              "      <td>0.50577</td>\n",
              "      <td>0.436364</td>\n",
              "      <td>0.498001</td>\n",
              "      <td>0.520059</td>\n",
              "      <td>0.443878</td>\n",
              "      <td>0.478160</td>\n",
              "      <td>0.478171</td>\n",
              "      <td>0.535454</td>\n",
              "      <td>0.475976</td>\n",
              "      <td>0.493826</td>\n",
              "      <td>0.538281</td>\n",
              "      <td>0.532883</td>\n",
              "      <td>0.519928</td>\n",
              "      <td>0.519928</td>\n",
              "      <td>0.522664</td>\n",
              "    </tr>\n",
              "    <tr>\n",
              "      <th>124526</th>\n",
              "      <td>0.498007</td>\n",
              "      <td>0.520408</td>\n",
              "      <td>0.603376</td>\n",
              "      <td>0.603376</td>\n",
              "      <td>0.514813</td>\n",
              "      <td>0.547151</td>\n",
              "      <td>0.541649</td>\n",
              "      <td>0.548668</td>\n",
              "      <td>0.50577</td>\n",
              "      <td>0.543611</td>\n",
              "      <td>0.498001</td>\n",
              "      <td>0.520059</td>\n",
              "      <td>0.589286</td>\n",
              "      <td>0.478160</td>\n",
              "      <td>0.478171</td>\n",
              "      <td>0.562780</td>\n",
              "      <td>0.671839</td>\n",
              "      <td>0.500000</td>\n",
              "      <td>0.538281</td>\n",
              "      <td>0.570336</td>\n",
              "      <td>0.522887</td>\n",
              "      <td>0.522887</td>\n",
              "      <td>0.479033</td>\n",
              "    </tr>\n",
              "    <tr>\n",
              "      <th>124527</th>\n",
              "      <td>0.498007</td>\n",
              "      <td>0.491486</td>\n",
              "      <td>0.397590</td>\n",
              "      <td>0.407381</td>\n",
              "      <td>0.421712</td>\n",
              "      <td>0.535895</td>\n",
              "      <td>0.535752</td>\n",
              "      <td>0.357250</td>\n",
              "      <td>0.50577</td>\n",
              "      <td>0.647779</td>\n",
              "      <td>0.498001</td>\n",
              "      <td>0.520059</td>\n",
              "      <td>0.633489</td>\n",
              "      <td>0.478160</td>\n",
              "      <td>0.478171</td>\n",
              "      <td>0.627282</td>\n",
              "      <td>0.458313</td>\n",
              "      <td>0.613205</td>\n",
              "      <td>0.538281</td>\n",
              "      <td>0.570336</td>\n",
              "      <td>0.480599</td>\n",
              "      <td>0.461553</td>\n",
              "      <td>0.512128</td>\n",
              "    </tr>\n",
              "  </tbody>\n",
              "</table>\n",
              "<p>124528 rows × 23 columns</p>\n",
              "</div>\n",
              "      <button class=\"colab-df-convert\" onclick=\"convertToInteractive('df-1f8e50ee-5791-4c7a-9f6e-aac0340da6cf')\"\n",
              "              title=\"Convert this dataframe to an interactive table.\"\n",
              "              style=\"display:none;\">\n",
              "        \n",
              "  <svg xmlns=\"http://www.w3.org/2000/svg\" height=\"24px\"viewBox=\"0 0 24 24\"\n",
              "       width=\"24px\">\n",
              "    <path d=\"M0 0h24v24H0V0z\" fill=\"none\"/>\n",
              "    <path d=\"M18.56 5.44l.94 2.06.94-2.06 2.06-.94-2.06-.94-.94-2.06-.94 2.06-2.06.94zm-11 1L8.5 8.5l.94-2.06 2.06-.94-2.06-.94L8.5 2.5l-.94 2.06-2.06.94zm10 10l.94 2.06.94-2.06 2.06-.94-2.06-.94-.94-2.06-.94 2.06-2.06.94z\"/><path d=\"M17.41 7.96l-1.37-1.37c-.4-.4-.92-.59-1.43-.59-.52 0-1.04.2-1.43.59L10.3 9.45l-7.72 7.72c-.78.78-.78 2.05 0 2.83L4 21.41c.39.39.9.59 1.41.59.51 0 1.02-.2 1.41-.59l7.78-7.78 2.81-2.81c.8-.78.8-2.07 0-2.86zM5.41 20L4 18.59l7.72-7.72 1.47 1.35L5.41 20z\"/>\n",
              "  </svg>\n",
              "      </button>\n",
              "      \n",
              "  <style>\n",
              "    .colab-df-container {\n",
              "      display:flex;\n",
              "      flex-wrap:wrap;\n",
              "      gap: 12px;\n",
              "    }\n",
              "\n",
              "    .colab-df-convert {\n",
              "      background-color: #E8F0FE;\n",
              "      border: none;\n",
              "      border-radius: 50%;\n",
              "      cursor: pointer;\n",
              "      display: none;\n",
              "      fill: #1967D2;\n",
              "      height: 32px;\n",
              "      padding: 0 0 0 0;\n",
              "      width: 32px;\n",
              "    }\n",
              "\n",
              "    .colab-df-convert:hover {\n",
              "      background-color: #E2EBFA;\n",
              "      box-shadow: 0px 1px 2px rgba(60, 64, 67, 0.3), 0px 1px 3px 1px rgba(60, 64, 67, 0.15);\n",
              "      fill: #174EA6;\n",
              "    }\n",
              "\n",
              "    [theme=dark] .colab-df-convert {\n",
              "      background-color: #3B4455;\n",
              "      fill: #D2E3FC;\n",
              "    }\n",
              "\n",
              "    [theme=dark] .colab-df-convert:hover {\n",
              "      background-color: #434B5C;\n",
              "      box-shadow: 0px 1px 3px 1px rgba(0, 0, 0, 0.15);\n",
              "      filter: drop-shadow(0px 1px 2px rgba(0, 0, 0, 0.3));\n",
              "      fill: #FFFFFF;\n",
              "    }\n",
              "  </style>\n",
              "\n",
              "      <script>\n",
              "        const buttonEl =\n",
              "          document.querySelector('#df-1f8e50ee-5791-4c7a-9f6e-aac0340da6cf button.colab-df-convert');\n",
              "        buttonEl.style.display =\n",
              "          google.colab.kernel.accessAllowed ? 'block' : 'none';\n",
              "\n",
              "        async function convertToInteractive(key) {\n",
              "          const element = document.querySelector('#df-1f8e50ee-5791-4c7a-9f6e-aac0340da6cf');\n",
              "          const dataTable =\n",
              "            await google.colab.kernel.invokeFunction('convertToInteractive',\n",
              "                                                     [key], {});\n",
              "          if (!dataTable) return;\n",
              "\n",
              "          const docLinkHtml = 'Like what you see? Visit the ' +\n",
              "            '<a target=\"_blank\" href=https://colab.research.google.com/notebooks/data_table.ipynb>data table notebook</a>'\n",
              "            + ' to learn more about interactive tables.';\n",
              "          element.innerHTML = '';\n",
              "          dataTable['output_type'] = 'display_data';\n",
              "          await google.colab.output.renderOutput(dataTable, element);\n",
              "          const docLink = document.createElement('div');\n",
              "          docLink.innerHTML = docLinkHtml;\n",
              "          element.appendChild(docLink);\n",
              "        }\n",
              "      </script>\n",
              "    </div>\n",
              "  </div>\n",
              "  "
            ]
          },
          "metadata": {},
          "execution_count": 249
        }
      ]
    },
    {
      "cell_type": "code",
      "source": [
        "df_final.shape"
      ],
      "metadata": {
        "colab": {
          "base_uri": "https://localhost:8080/"
        },
        "id": "IVxJJ2hG4ckd",
        "outputId": "95a3a6b7-cf56-4634-c6df-26e25ffe1c3d"
      },
      "execution_count": 250,
      "outputs": [
        {
          "output_type": "execute_result",
          "data": {
            "text/plain": [
              "(99999, 24)"
            ]
          },
          "metadata": {},
          "execution_count": 250
        }
      ]
    },
    {
      "cell_type": "code",
      "source": [
        "X_train.shape"
      ],
      "metadata": {
        "colab": {
          "base_uri": "https://localhost:8080/"
        },
        "id": "woxoPO8X4sDq",
        "outputId": "54b205d6-fb5e-4b85-d85a-cdb375e28549"
      },
      "execution_count": 251,
      "outputs": [
        {
          "output_type": "execute_result",
          "data": {
            "text/plain": [
              "(124528, 23)"
            ]
          },
          "metadata": {},
          "execution_count": 251
        }
      ]
    },
    {
      "cell_type": "code",
      "source": [
        "X_train_new = te.transform(X_train, y_train)"
      ],
      "metadata": {
        "id": "-F8n3eO45NmB"
      },
      "execution_count": 252,
      "outputs": []
    },
    {
      "cell_type": "code",
      "source": [
        "X_test_new = te.transform(X_test, y_test)\n",
        "X_test_new.shape"
      ],
      "metadata": {
        "colab": {
          "base_uri": "https://localhost:8080/"
        },
        "id": "UAga2tIm5dFv",
        "outputId": "74ad63ef-1d60-40d4-957c-ad1608a036c5"
      },
      "execution_count": 253,
      "outputs": [
        {
          "output_type": "execute_result",
          "data": {
            "text/plain": [
              "(25000, 23)"
            ]
          },
          "metadata": {},
          "execution_count": 253
        }
      ]
    },
    {
      "cell_type": "code",
      "source": [
        "fs = FeatureSelector(data = X_train_new, labels = y_train)"
      ],
      "metadata": {
        "id": "aGxfn-XG68BN"
      },
      "execution_count": 254,
      "outputs": []
    },
    {
      "cell_type": "code",
      "source": [
        "fs.identify_zero_importance(task = 'classification', eval_metric = 'auc', \n",
        "                            n_iterations = 10, early_stopping = True)"
      ],
      "metadata": {
        "colab": {
          "base_uri": "https://localhost:8080/"
        },
        "id": "C8F3vH255tpU",
        "outputId": "a64752f6-bffa-47af-a9e0-03045ff57582"
      },
      "execution_count": 255,
      "outputs": [
        {
          "output_type": "stream",
          "name": "stdout",
          "text": [
            "Training Gradient Boosting Model\n",
            "\n",
            "Training until validation scores don't improve for 100 rounds.\n",
            "Did not meet early stopping. Best iteration is:\n",
            "[1000]\tvalid_0's auc: 0.895975\tvalid_0's binary_logloss: 0.395903\n",
            "Training until validation scores don't improve for 100 rounds.\n",
            "Did not meet early stopping. Best iteration is:\n",
            "[1000]\tvalid_0's auc: 0.89761\tvalid_0's binary_logloss: 0.394342\n",
            "Training until validation scores don't improve for 100 rounds.\n",
            "Did not meet early stopping. Best iteration is:\n",
            "[1000]\tvalid_0's auc: 0.898624\tvalid_0's binary_logloss: 0.392915\n",
            "Training until validation scores don't improve for 100 rounds.\n",
            "Did not meet early stopping. Best iteration is:\n",
            "[1000]\tvalid_0's auc: 0.899927\tvalid_0's binary_logloss: 0.39042\n",
            "Training until validation scores don't improve for 100 rounds.\n",
            "Did not meet early stopping. Best iteration is:\n",
            "[1000]\tvalid_0's auc: 0.895502\tvalid_0's binary_logloss: 0.394888\n",
            "Training until validation scores don't improve for 100 rounds.\n",
            "Did not meet early stopping. Best iteration is:\n",
            "[1000]\tvalid_0's auc: 0.896906\tvalid_0's binary_logloss: 0.394087\n",
            "Training until validation scores don't improve for 100 rounds.\n",
            "Did not meet early stopping. Best iteration is:\n",
            "[1000]\tvalid_0's auc: 0.900157\tvalid_0's binary_logloss: 0.392605\n",
            "Training until validation scores don't improve for 100 rounds.\n",
            "Did not meet early stopping. Best iteration is:\n",
            "[1000]\tvalid_0's auc: 0.897449\tvalid_0's binary_logloss: 0.394718\n",
            "Training until validation scores don't improve for 100 rounds.\n",
            "Did not meet early stopping. Best iteration is:\n",
            "[1000]\tvalid_0's auc: 0.90043\tvalid_0's binary_logloss: 0.388043\n",
            "Training until validation scores don't improve for 100 rounds.\n",
            "Did not meet early stopping. Best iteration is:\n",
            "[1000]\tvalid_0's auc: 0.89729\tvalid_0's binary_logloss: 0.395375\n",
            "\n",
            "0 features with zero importance after one-hot encoding.\n",
            "\n"
          ]
        }
      ]
    },
    {
      "cell_type": "code",
      "source": [
        "zero_importance_features = fs.ops['zero_importance']\n",
        "zero_importance_features"
      ],
      "metadata": {
        "colab": {
          "base_uri": "https://localhost:8080/"
        },
        "id": "90HAQqEG53k1",
        "outputId": "1415e269-24cd-4f26-ee66-df26eaa3d5b1"
      },
      "execution_count": 256,
      "outputs": [
        {
          "output_type": "execute_result",
          "data": {
            "text/plain": [
              "[]"
            ]
          },
          "metadata": {},
          "execution_count": 256
        }
      ]
    },
    {
      "cell_type": "code",
      "source": [
        "fs.plot_feature_importances(threshold = 0.99, plot_n = 24)"
      ],
      "metadata": {
        "colab": {
          "base_uri": "https://localhost:8080/",
          "height": 977
        },
        "id": "GX8FMSyo6nxY",
        "outputId": "329df30f-ef65-450c-9745-2d8178f0d78b"
      },
      "execution_count": 257,
      "outputs": [
        {
          "output_type": "display_data",
          "data": {
            "text/plain": [
              "<Figure size 1000x600 with 1 Axes>"
            ],
            "image/png": "[encoded data removed]"
          },
          "metadata": {}
        },
        {
          "output_type": "display_data",
          "data": {
            "text/plain": [
              "<Figure size 600x400 with 1 Axes>"
            ],
            "image/png": "[encoded data removed]"
          },
          "metadata": {}
        },
        {
          "output_type": "stream",
          "name": "stdout",
          "text": [
            "19 features required for 0.99 of cumulative importance\n"
          ]
        }
      ]
    },
    {
      "cell_type": "code",
      "source": [
        "fs.feature_importances.head(20)"
      ],
      "metadata": {
        "colab": {
          "base_uri": "https://localhost:8080/",
          "height": 677
        },
        "id": "N3wFXi7S8hK0",
        "outputId": "133eb29a-9f8a-424f-f495-b98072966a71"
      },
      "execution_count": 258,
      "outputs": [
        {
          "output_type": "execute_result",
          "data": {
            "text/plain": [
              "             feature  importance  normalized_importance  cumulative_importance\n",
              "0   device_model      6306.9      0.210230               0.210230             \n",
              "1   hour              4194.5      0.139817               0.350047             \n",
              "2   C14               3447.6      0.114920               0.464967             \n",
              "3   C20               2203.7      0.073457               0.538423             \n",
              "4   site_id           1946.9      0.064897               0.603320             \n",
              "5   C17               1702.3      0.056743               0.660063             \n",
              "6   day               1552.8      0.051760               0.711823             \n",
              "7   app_id            1375.5      0.045850               0.757673             \n",
              "8   dayofweek         1367.7      0.045590               0.803263             \n",
              "9   site_domain       1319.6      0.043987               0.847250             \n",
              "10  C19               1152.0      0.038400               0.885650             \n",
              "11  C21               932.3       0.031077               0.916727             \n",
              "12  device_id         523.9       0.017463               0.934190             \n",
              "13  site_category     402.0       0.013400               0.947590             \n",
              "14  C18               357.1       0.011903               0.959493             \n",
              "15  app_domain        348.3       0.011610               0.971103             \n",
              "16  device_conn_type  283.7       0.009457               0.980560             \n",
              "17  banner_pos        223.8       0.007460               0.988020             \n",
              "18  app_category      206.0       0.006867               0.994887             \n",
              "19  C15               77.2        0.002573               0.997460             "
            ],
            "text/html": [
              "\n",
              "  <div id=\"df-5f48e7a5-cbec-45ab-b21a-09ef49ec6330\">\n",
              "    <div class=\"colab-df-container\">\n",
              "      <div>\n",
              "<style scoped>\n",
              "    .dataframe tbody tr th:only-of-type {\n",
              "        vertical-align: middle;\n",
              "    }\n",
              "\n",
              "    .dataframe tbody tr th {\n",
              "        vertical-align: top;\n",
              "    }\n",
              "\n",
              "    .dataframe thead th {\n",
              "        text-align: right;\n",
              "    }\n",
              "</style>\n",
              "<table border=\"1\" class=\"dataframe\">\n",
              "  <thead>\n",
              "    <tr style=\"text-align: right;\">\n",
              "      <th></th>\n",
              "      <th>feature</th>\n",
              "      <th>importance</th>\n",
              "      <th>normalized_importance</th>\n",
              "      <th>cumulative_importance</th>\n",
              "    </tr>\n",
              "  </thead>\n",
              "  <tbody>\n",
              "    <tr>\n",
              "      <th>0</th>\n",
              "      <td>device_model</td>\n",
              "      <td>6306.9</td>\n",
              "      <td>0.210230</td>\n",
              "      <td>0.210230</td>\n",
              "    </tr>\n",
              "    <tr>\n",
              "      <th>1</th>\n",
              "      <td>hour</td>\n",
              "      <td>4194.5</td>\n",
              "      <td>0.139817</td>\n",
              "      <td>0.350047</td>\n",
              "    </tr>\n",
              "    <tr>\n",
              "      <th>2</th>\n",
              "      <td>C14</td>\n",
              "      <td>3447.6</td>\n",
              "      <td>0.114920</td>\n",
              "      <td>0.464967</td>\n",
              "    </tr>\n",
              "    <tr>\n",
              "      <th>3</th>\n",
              "      <td>C20</td>\n",
              "      <td>2203.7</td>\n",
              "      <td>0.073457</td>\n",
              "      <td>0.538423</td>\n",
              "    </tr>\n",
              "    <tr>\n",
              "      <th>4</th>\n",
              "      <td>site_id</td>\n",
              "      <td>1946.9</td>\n",
              "      <td>0.064897</td>\n",
              "      <td>0.603320</td>\n",
              "    </tr>\n",
              "    <tr>\n",
              "      <th>5</th>\n",
              "      <td>C17</td>\n",
              "      <td>1702.3</td>\n",
              "      <td>0.056743</td>\n",
              "      <td>0.660063</td>\n",
              "    </tr>\n",
              "    <tr>\n",
              "      <th>6</th>\n",
              "      <td>day</td>\n",
              "      <td>1552.8</td>\n",
              "      <td>0.051760</td>\n",
              "      <td>0.711823</td>\n",
              "    </tr>\n",
              "    <tr>\n",
              "      <th>7</th>\n",
              "      <td>app_id</td>\n",
              "      <td>1375.5</td>\n",
              "      <td>0.045850</td>\n",
              "      <td>0.757673</td>\n",
              "    </tr>\n",
              "    <tr>\n",
              "      <th>8</th>\n",
              "      <td>dayofweek</td>\n",
              "      <td>1367.7</td>\n",
              "      <td>0.045590</td>\n",
              "      <td>0.803263</td>\n",
              "    </tr>\n",
              "    <tr>\n",
              "      <th>9</th>\n",
              "      <td>site_domain</td>\n",
              "      <td>1319.6</td>\n",
              "      <td>0.043987</td>\n",
              "      <td>0.847250</td>\n",
              "    </tr>\n",
              "    <tr>\n",
              "      <th>10</th>\n",
              "      <td>C19</td>\n",
              "      <td>1152.0</td>\n",
              "      <td>0.038400</td>\n",
              "      <td>0.885650</td>\n",
              "    </tr>\n",
              "    <tr>\n",
              "      <th>11</th>\n",
              "      <td>C21</td>\n",
              "      <td>932.3</td>\n",
              "      <td>0.031077</td>\n",
              "      <td>0.916727</td>\n",
              "    </tr>\n",
              "    <tr>\n",
              "      <th>12</th>\n",
              "      <td>device_id</td>\n",
              "      <td>523.9</td>\n",
              "      <td>0.017463</td>\n",
              "      <td>0.934190</td>\n",
              "    </tr>\n",
              "    <tr>\n",
              "      <th>13</th>\n",
              "      <td>site_category</td>\n",
              "      <td>402.0</td>\n",
              "      <td>0.013400</td>\n",
              "      <td>0.947590</td>\n",
              "    </tr>\n",
              "    <tr>\n",
              "      <th>14</th>\n",
              "      <td>C18</td>\n",
              "      <td>357.1</td>\n",
              "      <td>0.011903</td>\n",
              "      <td>0.959493</td>\n",
              "    </tr>\n",
              "    <tr>\n",
              "      <th>15</th>\n",
              "      <td>app_domain</td>\n",
              "      <td>348.3</td>\n",
              "      <td>0.011610</td>\n",
              "      <td>0.971103</td>\n",
              "    </tr>\n",
              "    <tr>\n",
              "      <th>16</th>\n",
              "      <td>device_conn_type</td>\n",
              "      <td>283.7</td>\n",
              "      <td>0.009457</td>\n",
              "      <td>0.980560</td>\n",
              "    </tr>\n",
              "    <tr>\n",
              "      <th>17</th>\n",
              "      <td>banner_pos</td>\n",
              "      <td>223.8</td>\n",
              "      <td>0.007460</td>\n",
              "      <td>0.988020</td>\n",
              "    </tr>\n",
              "    <tr>\n",
              "      <th>18</th>\n",
              "      <td>app_category</td>\n",
              "      <td>206.0</td>\n",
              "      <td>0.006867</td>\n",
              "      <td>0.994887</td>\n",
              "    </tr>\n",
              "    <tr>\n",
              "      <th>19</th>\n",
              "      <td>C15</td>\n",
              "      <td>77.2</td>\n",
              "      <td>0.002573</td>\n",
              "      <td>0.997460</td>\n",
              "    </tr>\n",
              "  </tbody>\n",
              "</table>\n",
              "</div>\n",
              "      <button class=\"colab-df-convert\" onclick=\"convertToInteractive('df-5f48e7a5-cbec-45ab-b21a-09ef49ec6330')\"\n",
              "              title=\"Convert this dataframe to an interactive table.\"\n",
              "              style=\"display:none;\">\n",
              "        \n",
              "  <svg xmlns=\"http://www.w3.org/2000/svg\" height=\"24px\"viewBox=\"0 0 24 24\"\n",
              "       width=\"24px\">\n",
              "    <path d=\"M0 0h24v24H0V0z\" fill=\"none\"/>\n",
              "    <path d=\"M18.56 5.44l.94 2.06.94-2.06 2.06-.94-2.06-.94-.94-2.06-.94 2.06-2.06.94zm-11 1L8.5 8.5l.94-2.06 2.06-.94-2.06-.94L8.5 2.5l-.94 2.06-2.06.94zm10 10l.94 2.06.94-2.06 2.06-.94-2.06-.94-.94-2.06-.94 2.06-2.06.94z\"/><path d=\"M17.41 7.96l-1.37-1.37c-.4-.4-.92-.59-1.43-.59-.52 0-1.04.2-1.43.59L10.3 9.45l-7.72 7.72c-.78.78-.78 2.05 0 2.83L4 21.41c.39.39.9.59 1.41.59.51 0 1.02-.2 1.41-.59l7.78-7.78 2.81-2.81c.8-.78.8-2.07 0-2.86zM5.41 20L4 18.59l7.72-7.72 1.47 1.35L5.41 20z\"/>\n",
              "  </svg>\n",
              "      </button>\n",
              "      \n",
              "  <style>\n",
              "    .colab-df-container {\n",
              "      display:flex;\n",
              "      flex-wrap:wrap;\n",
              "      gap: 12px;\n",
              "    }\n",
              "\n",
              "    .colab-df-convert {\n",
              "      background-color: #E8F0FE;\n",
              "      border: none;\n",
              "      border-radius: 50%;\n",
              "      cursor: pointer;\n",
              "      display: none;\n",
              "      fill: #1967D2;\n",
              "      height: 32px;\n",
              "      padding: 0 0 0 0;\n",
              "      width: 32px;\n",
              "    }\n",
              "\n",
              "    .colab-df-convert:hover {\n",
              "      background-color: #E2EBFA;\n",
              "      box-shadow: 0px 1px 2px rgba(60, 64, 67, 0.3), 0px 1px 3px 1px rgba(60, 64, 67, 0.15);\n",
              "      fill: #174EA6;\n",
              "    }\n",
              "\n",
              "    [theme=dark] .colab-df-convert {\n",
              "      background-color: #3B4455;\n",
              "      fill: #D2E3FC;\n",
              "    }\n",
              "\n",
              "    [theme=dark] .colab-df-convert:hover {\n",
              "      background-color: #434B5C;\n",
              "      box-shadow: 0px 1px 3px 1px rgba(0, 0, 0, 0.15);\n",
              "      filter: drop-shadow(0px 1px 2px rgba(0, 0, 0, 0.3));\n",
              "      fill: #FFFFFF;\n",
              "    }\n",
              "  </style>\n",
              "\n",
              "      <script>\n",
              "        const buttonEl =\n",
              "          document.querySelector('#df-5f48e7a5-cbec-45ab-b21a-09ef49ec6330 button.colab-df-convert');\n",
              "        buttonEl.style.display =\n",
              "          google.colab.kernel.accessAllowed ? 'block' : 'none';\n",
              "\n",
              "        async function convertToInteractive(key) {\n",
              "          const element = document.querySelector('#df-5f48e7a5-cbec-45ab-b21a-09ef49ec6330');\n",
              "          const dataTable =\n",
              "            await google.colab.kernel.invokeFunction('convertToInteractive',\n",
              "                                                     [key], {});\n",
              "          if (!dataTable) return;\n",
              "\n",
              "          const docLinkHtml = 'Like what you see? Visit the ' +\n",
              "            '<a target=\"_blank\" href=https://colab.research.google.com/notebooks/data_table.ipynb>data table notebook</a>'\n",
              "            + ' to learn more about interactive tables.';\n",
              "          element.innerHTML = '';\n",
              "          dataTable['output_type'] = 'display_data';\n",
              "          await google.colab.output.renderOutput(dataTable, element);\n",
              "          const docLink = document.createElement('div');\n",
              "          docLink.innerHTML = docLinkHtml;\n",
              "          element.appendChild(docLink);\n",
              "        }\n",
              "      </script>\n",
              "    </div>\n",
              "  </div>\n",
              "  "
            ]
          },
          "metadata": {},
          "execution_count": 258
        }
      ]
    },
    {
      "cell_type": "code",
      "source": [
        "top_99_percentile_features = list(fs.feature_importances.loc[:17, 'feature'])\n",
        "len(top_99_percentile_features)"
      ],
      "metadata": {
        "colab": {
          "base_uri": "https://localhost:8080/"
        },
        "id": "fmgeDipX8syD",
        "outputId": "27496184-0dcc-4c0c-888d-36b017f9c294"
      },
      "execution_count": 259,
      "outputs": [
        {
          "output_type": "execute_result",
          "data": {
            "text/plain": [
              "18"
            ]
          },
          "metadata": {},
          "execution_count": 259
        }
      ]
    },
    {
      "cell_type": "code",
      "source": [
        "fs.identify_low_importance(cumulative_importance = 0.99)"
      ],
      "metadata": {
        "colab": {
          "base_uri": "https://localhost:8080/"
        },
        "id": "EuQ28LYY9IPc",
        "outputId": "18213557-8cfd-4cc6-95f2-18deabea4d9b"
      },
      "execution_count": 260,
      "outputs": [
        {
          "output_type": "stream",
          "name": "stdout",
          "text": [
            "18 features required for cumulative importance of 0.99 after one hot encoding.\n",
            "5 features do not contribute to cumulative importance of 0.99.\n",
            "\n"
          ]
        }
      ]
    },
    {
      "cell_type": "code",
      "source": [
        "low_importance_features = fs.ops['low_importance']\n",
        "low_importance_features"
      ],
      "metadata": {
        "colab": {
          "base_uri": "https://localhost:8080/"
        },
        "id": "QO0287uK9SWt",
        "outputId": "9044d715-ac06-4cb8-a227-f7d9a0435f9c"
      },
      "execution_count": 261,
      "outputs": [
        {
          "output_type": "execute_result",
          "data": {
            "text/plain": [
              "['app_category', 'C15', 'C16', 'C1', 'device_type']"
            ]
          },
          "metadata": {},
          "execution_count": 261
        }
      ]
    },
    {
      "cell_type": "markdown",
      "source": [
        "## Modeling Before Removing Features"
      ],
      "metadata": {
        "id": "0BBPtE3uKwCP"
      }
    },
    {
      "cell_type": "code",
      "source": [
        "y_test.value_counts()"
      ],
      "metadata": {
        "colab": {
          "base_uri": "https://localhost:8080/"
        },
        "id": "IU5CD5BsQ_xa",
        "outputId": "f6063574-c20a-4861-9de9-48053c4400c0"
      },
      "execution_count": 262,
      "outputs": [
        {
          "output_type": "execute_result",
          "data": {
            "text/plain": [
              "0    20755\n",
              "1    4245 \n",
              "Name: y, dtype: int64"
            ]
          },
          "metadata": {},
          "execution_count": 262
        }
      ]
    },
    {
      "cell_type": "markdown",
      "source": [
        "### Logistic Regression"
      ],
      "metadata": {
        "id": "2pr1mA_SLF5U"
      }
    },
    {
      "cell_type": "code",
      "source": [
        "from sklearn.linear_model import LogisticRegression\n",
        "lr = LogisticRegression()"
      ],
      "metadata": {
        "id": "Mjs6Wa8PK-a1"
      },
      "execution_count": 263,
      "outputs": []
    },
    {
      "cell_type": "code",
      "source": [
        "lr.fit(X_train_new,y_train)"
      ],
      "metadata": {
        "colab": {
          "base_uri": "https://localhost:8080/"
        },
        "id": "ciqPBJQfLjLQ",
        "outputId": "874690ad-a060-4e7a-df84-e1271d56a43d"
      },
      "execution_count": 264,
      "outputs": [
        {
          "output_type": "stream",
          "name": "stderr",
          "text": [
            "/usr/local/lib/python3.7/dist-packages/sklearn/linear_model/_logistic.py:818: ConvergenceWarning: lbfgs failed to converge (status=1):\n",
            "STOP: TOTAL NO. of ITERATIONS REACHED LIMIT.\n",
            "\n",
            "Increase the number of iterations (max_iter) or scale the data as shown in:\n",
            "    https://scikit-learn.org/stable/modules/preprocessing.html\n",
            "Please also refer to the documentation for alternative solver options:\n",
            "    https://scikit-learn.org/stable/modules/linear_model.html#logistic-regression\n",
            "  extra_warning_msg=_LOGISTIC_SOLVER_CONVERGENCE_MSG,\n"
          ]
        },
        {
          "output_type": "execute_result",
          "data": {
            "text/plain": [
              "LogisticRegression()"
            ]
          },
          "metadata": {},
          "execution_count": 264
        }
      ]
    },
    {
      "cell_type": "code",
      "source": [
        "# Use the testing data to make predictions and determine the accuracy of your predictions.\n",
        "lr.fit(X_train_new,y_train)\n",
        "pred_lr = lr.predict(X_test_new)\n",
        "from sklearn import metrics\n",
        "print(metrics.accuracy_score(y_test, pred_lr))\n",
        "acc_lr = accuracy_score(y_test, pred_lr)\n",
        "recall_lr = recall_score(y_test, pred_lr)\n",
        "precision_lr = precision_score(y_test, pred_lr)\n",
        "f1score_lr = f1_score(y_test, pred_lr)\n",
        "\n",
        "AUC_LR = roc_auc_score(y_test, pred_lr)"
      ],
      "metadata": {
        "colab": {
          "base_uri": "https://localhost:8080/"
        },
        "id": "BmfuSOQUL164",
        "outputId": "a14de181-a91c-44fe-8768-6979c84c3c67"
      },
      "execution_count": 265,
      "outputs": [
        {
          "output_type": "stream",
          "name": "stdout",
          "text": [
            "0.67828\n"
          ]
        },
        {
          "output_type": "stream",
          "name": "stderr",
          "text": [
            "/usr/local/lib/python3.7/dist-packages/sklearn/linear_model/_logistic.py:818: ConvergenceWarning: lbfgs failed to converge (status=1):\n",
            "STOP: TOTAL NO. of ITERATIONS REACHED LIMIT.\n",
            "\n",
            "Increase the number of iterations (max_iter) or scale the data as shown in:\n",
            "    https://scikit-learn.org/stable/modules/preprocessing.html\n",
            "Please also refer to the documentation for alternative solver options:\n",
            "    https://scikit-learn.org/stable/modules/linear_model.html#logistic-regression\n",
            "  extra_warning_msg=_LOGISTIC_SOLVER_CONVERGENCE_MSG,\n"
          ]
        }
      ]
    },
    {
      "cell_type": "code",
      "source": [
        "from sklearn.metrics import roc_auc_score\n",
        "roc_auc_score(y_test, lr.predict_proba(X_test_new)[:, 1])"
      ],
      "metadata": {
        "colab": {
          "base_uri": "https://localhost:8080/"
        },
        "id": "52qtQmNOL7zh",
        "outputId": "bf304f07-fed6-417c-b7ed-e4c96424904b"
      },
      "execution_count": 266,
      "outputs": [
        {
          "output_type": "execute_result",
          "data": {
            "text/plain": [
              "0.701868793447816"
            ]
          },
          "metadata": {},
          "execution_count": 266
        }
      ]
    },
    {
      "cell_type": "code",
      "source": [
        "metrics.plot_confusion_matrix(lr, X_test_new, y_test)"
      ],
      "metadata": {
        "colab": {
          "base_uri": "https://localhost:8080/",
          "height": 514
        },
        "id": "Y51nN6KSTJ1K",
        "outputId": "fd628fca-ab2b-4514-e60e-8145d57f69ae"
      },
      "execution_count": 267,
      "outputs": [
        {
          "output_type": "stream",
          "name": "stderr",
          "text": [
            "/usr/local/lib/python3.7/dist-packages/sklearn/utils/deprecation.py:87: FutureWarning: Function plot_confusion_matrix is deprecated; Function `plot_confusion_matrix` is deprecated in 1.0 and will be removed in 1.2. Use one of the class methods: ConfusionMatrixDisplay.from_predictions or ConfusionMatrixDisplay.from_estimator.\n",
            "  warnings.warn(msg, category=FutureWarning)\n"
          ]
        },
        {
          "output_type": "execute_result",
          "data": {
            "text/plain": [
              "<sklearn.metrics._plot.confusion_matrix.ConfusionMatrixDisplay at 0x7f380d279890>"
            ]
          },
          "metadata": {},
          "execution_count": 267
        },
        {
          "output_type": "display_data",
          "data": {
            "text/plain": [
              "<Figure size 640x480 with 2 Axes>"
            ],
            "image/png": "[encoded data removed]"
          },
          "metadata": {}
        }
      ]
    },
    {
      "cell_type": "code",
      "source": [
        "metrics.plot_roc_curve(lr, X_test_new, y_test) \n",
        "plt.show()"
      ],
      "metadata": {
        "colab": {
          "base_uri": "https://localhost:8080/",
          "height": 497
        },
        "id": "ksna9YqvMbbu",
        "outputId": "b07cb969-c5b4-44e0-b9bd-4e355d1b5cf7"
      },
      "execution_count": 268,
      "outputs": [
        {
          "output_type": "stream",
          "name": "stderr",
          "text": [
            "/usr/local/lib/python3.7/dist-packages/sklearn/utils/deprecation.py:87: FutureWarning: Function plot_roc_curve is deprecated; Function :func:`plot_roc_curve` is deprecated in 1.0 and will be removed in 1.2. Use one of the class methods: :meth:`sklearn.metric.RocCurveDisplay.from_predictions` or :meth:`sklearn.metric.RocCurveDisplay.from_estimator`.\n",
            "  warnings.warn(msg, category=FutureWarning)\n"
          ]
        },
        {
          "output_type": "display_data",
          "data": {
            "text/plain": [
              "<Figure size 640x480 with 1 Axes>"
            ],
            "image/png": "[encoded data removed]"
          },
          "metadata": {}
        }
      ]
    },
    {
      "cell_type": "code",
      "source": [
        "print(classification_report(y_test, y_test_pred))"
      ],
      "metadata": {
        "colab": {
          "base_uri": "https://localhost:8080/"
        },
        "id": "6d1yQF4-NFF0",
        "outputId": "1d88197d-a3c3-4507-abac-a0f8914b3e37"
      },
      "execution_count": 269,
      "outputs": [
        {
          "output_type": "stream",
          "name": "stdout",
          "text": [
            "              precision    recall  f1-score   support\n",
            "\n",
            "           0       0.89      0.69      0.78     20755\n",
            "           1       0.29      0.60      0.39      4245\n",
            "\n",
            "    accuracy                           0.68     25000\n",
            "   macro avg       0.59      0.65      0.58     25000\n",
            "weighted avg       0.79      0.68      0.71     25000\n",
            "\n"
          ]
        }
      ]
    },
    {
      "cell_type": "markdown",
      "source": [
        "### Random Forest"
      ],
      "metadata": {
        "id": "LxS5wDS4NT3L"
      }
    },
    {
      "cell_type": "code",
      "source": [
        "model_rf = RandomForestClassifier(n_estimators=10, max_features=7, random_state=42)\n",
        "model_rf.fit(X_train_new, y_train)\n",
        "predict_rf = model_rf.predict(X_test_new)\n",
        "recall_rf = recall_score(y_test, predict_rf)\n",
        "precision_rf = precision_score(y_test, predict_rf)"
      ],
      "metadata": {
        "id": "rSFhcFn0NWOO"
      },
      "execution_count": 270,
      "outputs": []
    },
    {
      "cell_type": "code",
      "source": [
        "metrics.plot_confusion_matrix(model_rf, X_test_new, y_test)"
      ],
      "metadata": {
        "colab": {
          "base_uri": "https://localhost:8080/",
          "height": 514
        },
        "id": "yhwT9A3BTuyk",
        "outputId": "1284879e-15ab-4515-83df-1a18ec6edd13"
      },
      "execution_count": 271,
      "outputs": [
        {
          "output_type": "stream",
          "name": "stderr",
          "text": [
            "/usr/local/lib/python3.7/dist-packages/sklearn/utils/deprecation.py:87: FutureWarning: Function plot_confusion_matrix is deprecated; Function `plot_confusion_matrix` is deprecated in 1.0 and will be removed in 1.2. Use one of the class methods: ConfusionMatrixDisplay.from_predictions or ConfusionMatrixDisplay.from_estimator.\n",
            "  warnings.warn(msg, category=FutureWarning)\n"
          ]
        },
        {
          "output_type": "execute_result",
          "data": {
            "text/plain": [
              "<sklearn.metrics._plot.confusion_matrix.ConfusionMatrixDisplay at 0x7f380c904750>"
            ]
          },
          "metadata": {},
          "execution_count": 271
        },
        {
          "output_type": "display_data",
          "data": {
            "text/plain": [
              "<Figure size 640x480 with 2 Axes>"
            ],
            "image/png": "[encoded data removed]"
          },
          "metadata": {}
        }
      ]
    },
    {
      "cell_type": "code",
      "source": [
        "AUC_RF=roc_auc_score(predict_rf,y_test)\n",
        "acc_rf=accuracy_score(y_test,predict_rf)\n",
        "recall_rf=recall_score(y_test,predict_rf)\n",
        "precision_rf=precision_score(y_test,predict_rf)\n",
        "f1score_rf=f1_score(y_test, predict_rf)\n",
        "\n",
        "print(accuracy_score(y_test, predict_rf))\n",
        "print(\"ROC_AUC Score:\",AUC_RF)"
      ],
      "metadata": {
        "colab": {
          "base_uri": "https://localhost:8080/"
        },
        "id": "1bxJ77k7NcAU",
        "outputId": "e65cd8e7-ef9f-4b7e-dcf4-0daf6ef7cf5c"
      },
      "execution_count": 272,
      "outputs": [
        {
          "output_type": "stream",
          "name": "stdout",
          "text": [
            "0.78812\n",
            "ROC_AUC Score: 0.5844093319347335\n"
          ]
        }
      ]
    },
    {
      "cell_type": "code",
      "source": [
        "print(classification_report(y_test, predict_rf))"
      ],
      "metadata": {
        "colab": {
          "base_uri": "https://localhost:8080/"
        },
        "id": "rnd3o8hXNcDV",
        "outputId": "b95c3ed1-b57d-4c50-96c7-d7fd49725262"
      },
      "execution_count": 273,
      "outputs": [
        {
          "output_type": "stream",
          "name": "stdout",
          "text": [
            "              precision    recall  f1-score   support\n",
            "\n",
            "           0       0.85      0.90      0.88     20755\n",
            "           1       0.32      0.22      0.26      4245\n",
            "\n",
            "    accuracy                           0.79     25000\n",
            "   macro avg       0.58      0.56      0.57     25000\n",
            "weighted avg       0.76      0.79      0.77     25000\n",
            "\n"
          ]
        }
      ]
    },
    {
      "cell_type": "markdown",
      "source": [
        "###  XGBoost"
      ],
      "metadata": {
        "id": "O_t5-jFiLDxC"
      }
    },
    {
      "cell_type": "code",
      "source": [
        "from xgboost import XGBClassifier\n",
        "xgb=XGBClassifier()\n",
        "XGB_fit=xgb.fit(X_train_new, y_train)\n",
        "y_xgb_predict = XGB_fit.predict(X_test_new)\n",
        "XGB_probability = XGB_fit.predict_proba(X_test_new)[:,1]\n",
        "\n",
        "acc_xgb=accuracy_score(y_test,y_xgb_predict)\n",
        "recall_xgb=recall_score(y_test,y_xgb_predict)\n",
        "precision_xgb=precision_score(y_test,y_xgb_predict)\n",
        "f1score_xgb=f1_score(y_test,y_xgb_predict)\n",
        "\n",
        "AUC_xgb=roc_auc_score(y_xgb_predict,y_test)\n",
        "\n",
        "\n",
        "print(accuracy_score(y_xgb_predict,y_test))\n",
        "print(\"ROC_AUC Score:\",AUC_xgb)"
      ],
      "metadata": {
        "colab": {
          "base_uri": "https://localhost:8080/"
        },
        "id": "gHp7B_5MOEEj",
        "outputId": "36f91a33-253c-401a-f770-f6942e82ce49"
      },
      "execution_count": 274,
      "outputs": [
        {
          "output_type": "stream",
          "name": "stdout",
          "text": [
            "0.66344\n",
            "ROC_AUC Score: 0.5861846766651491\n"
          ]
        }
      ]
    },
    {
      "cell_type": "code",
      "source": [
        "print(classification_report(y_test, y_xgb_predict))"
      ],
      "metadata": {
        "colab": {
          "base_uri": "https://localhost:8080/"
        },
        "id": "RzmlsWKLOIaS",
        "outputId": "689521de-7ee4-476b-846e-538d73950b3f"
      },
      "execution_count": 275,
      "outputs": [
        {
          "output_type": "stream",
          "name": "stdout",
          "text": [
            "              precision    recall  f1-score   support\n",
            "\n",
            "           0       0.89      0.67      0.77     20755\n",
            "           1       0.28      0.61      0.38      4245\n",
            "\n",
            "    accuracy                           0.66     25000\n",
            "   macro avg       0.59      0.64      0.58     25000\n",
            "weighted avg       0.79      0.66      0.70     25000\n",
            "\n"
          ]
        }
      ]
    },
    {
      "cell_type": "code",
      "source": [
        "ind=['Logistic regression','Randomforest',\"XGBoost\"]\n",
        "data={\"Accuracy\":[acc_lr,acc_rf,acc_xgb],\"Recall\":[recall_lr,recall_rf,recall_xgb],\"Precision\":[precision_lr,precision_rf,precision_xgb],\n",
        "    'f1_score':[f1score_lr,f1score_rf,f1score_xgb],\"ROC_AUC\":[AUC_LR,AUC_RF,AUC_xgb]}\n",
        "result=pd.DataFrame(data=data,index=ind)\n",
        "result"
      ],
      "metadata": {
        "colab": {
          "base_uri": "https://localhost:8080/",
          "height": 172
        },
        "id": "wbyb67IGe9x8",
        "outputId": "2bd762a1-505f-4e11-f44e-cbcb893ed022"
      },
      "execution_count": 276,
      "outputs": [
        {
          "output_type": "execute_result",
          "data": {
            "text/plain": [
              "                     Accuracy    Recall  Precision  f1_score   ROC_AUC\n",
              "Logistic regression  0.67828   0.583746  0.283071   0.381260  0.640680\n",
              "Randomforest         0.78812   0.218375  0.318995   0.259264  0.584409\n",
              "XGBoost              0.66344   0.612721  0.277558   0.382051  0.586185"
            ],
            "text/html": [
              "\n",
              "  <div id=\"df-a10598d3-a1d9-459e-ab2e-4e6a5b56f142\">\n",
              "    <div class=\"colab-df-container\">\n",
              "      <div>\n",
              "<style scoped>\n",
              "    .dataframe tbody tr th:only-of-type {\n",
              "        vertical-align: middle;\n",
              "    }\n",
              "\n",
              "    .dataframe tbody tr th {\n",
              "        vertical-align: top;\n",
              "    }\n",
              "\n",
              "    .dataframe thead th {\n",
              "        text-align: right;\n",
              "    }\n",
              "</style>\n",
              "<table border=\"1\" class=\"dataframe\">\n",
              "  <thead>\n",
              "    <tr style=\"text-align: right;\">\n",
              "      <th></th>\n",
              "      <th>Accuracy</th>\n",
              "      <th>Recall</th>\n",
              "      <th>Precision</th>\n",
              "      <th>f1_score</th>\n",
              "      <th>ROC_AUC</th>\n",
              "    </tr>\n",
              "  </thead>\n",
              "  <tbody>\n",
              "    <tr>\n",
              "      <th>Logistic regression</th>\n",
              "      <td>0.67828</td>\n",
              "      <td>0.583746</td>\n",
              "      <td>0.283071</td>\n",
              "      <td>0.381260</td>\n",
              "      <td>0.640680</td>\n",
              "    </tr>\n",
              "    <tr>\n",
              "      <th>Randomforest</th>\n",
              "      <td>0.78812</td>\n",
              "      <td>0.218375</td>\n",
              "      <td>0.318995</td>\n",
              "      <td>0.259264</td>\n",
              "      <td>0.584409</td>\n",
              "    </tr>\n",
              "    <tr>\n",
              "      <th>XGBoost</th>\n",
              "      <td>0.66344</td>\n",
              "      <td>0.612721</td>\n",
              "      <td>0.277558</td>\n",
              "      <td>0.382051</td>\n",
              "      <td>0.586185</td>\n",
              "    </tr>\n",
              "  </tbody>\n",
              "</table>\n",
              "</div>\n",
              "      <button class=\"colab-df-convert\" onclick=\"convertToInteractive('df-a10598d3-a1d9-459e-ab2e-4e6a5b56f142')\"\n",
              "              title=\"Convert this dataframe to an interactive table.\"\n",
              "              style=\"display:none;\">\n",
              "        \n",
              "  <svg xmlns=\"http://www.w3.org/2000/svg\" height=\"24px\"viewBox=\"0 0 24 24\"\n",
              "       width=\"24px\">\n",
              "    <path d=\"M0 0h24v24H0V0z\" fill=\"none\"/>\n",
              "    <path d=\"M18.56 5.44l.94 2.06.94-2.06 2.06-.94-2.06-.94-.94-2.06-.94 2.06-2.06.94zm-11 1L8.5 8.5l.94-2.06 2.06-.94-2.06-.94L8.5 2.5l-.94 2.06-2.06.94zm10 10l.94 2.06.94-2.06 2.06-.94-2.06-.94-.94-2.06-.94 2.06-2.06.94z\"/><path d=\"M17.41 7.96l-1.37-1.37c-.4-.4-.92-.59-1.43-.59-.52 0-1.04.2-1.43.59L10.3 9.45l-7.72 7.72c-.78.78-.78 2.05 0 2.83L4 21.41c.39.39.9.59 1.41.59.51 0 1.02-.2 1.41-.59l7.78-7.78 2.81-2.81c.8-.78.8-2.07 0-2.86zM5.41 20L4 18.59l7.72-7.72 1.47 1.35L5.41 20z\"/>\n",
              "  </svg>\n",
              "      </button>\n",
              "      \n",
              "  <style>\n",
              "    .colab-df-container {\n",
              "      display:flex;\n",
              "      flex-wrap:wrap;\n",
              "      gap: 12px;\n",
              "    }\n",
              "\n",
              "    .colab-df-convert {\n",
              "      background-color: #E8F0FE;\n",
              "      border: none;\n",
              "      border-radius: 50%;\n",
              "      cursor: pointer;\n",
              "      display: none;\n",
              "      fill: #1967D2;\n",
              "      height: 32px;\n",
              "      padding: 0 0 0 0;\n",
              "      width: 32px;\n",
              "    }\n",
              "\n",
              "    .colab-df-convert:hover {\n",
              "      background-color: #E2EBFA;\n",
              "      box-shadow: 0px 1px 2px rgba(60, 64, 67, 0.3), 0px 1px 3px 1px rgba(60, 64, 67, 0.15);\n",
              "      fill: #174EA6;\n",
              "    }\n",
              "\n",
              "    [theme=dark] .colab-df-convert {\n",
              "      background-color: #3B4455;\n",
              "      fill: #D2E3FC;\n",
              "    }\n",
              "\n",
              "    [theme=dark] .colab-df-convert:hover {\n",
              "      background-color: #434B5C;\n",
              "      box-shadow: 0px 1px 3px 1px rgba(0, 0, 0, 0.15);\n",
              "      filter: drop-shadow(0px 1px 2px rgba(0, 0, 0, 0.3));\n",
              "      fill: #FFFFFF;\n",
              "    }\n",
              "  </style>\n",
              "\n",
              "      <script>\n",
              "        const buttonEl =\n",
              "          document.querySelector('#df-a10598d3-a1d9-459e-ab2e-4e6a5b56f142 button.colab-df-convert');\n",
              "        buttonEl.style.display =\n",
              "          google.colab.kernel.accessAllowed ? 'block' : 'none';\n",
              "\n",
              "        async function convertToInteractive(key) {\n",
              "          const element = document.querySelector('#df-a10598d3-a1d9-459e-ab2e-4e6a5b56f142');\n",
              "          const dataTable =\n",
              "            await google.colab.kernel.invokeFunction('convertToInteractive',\n",
              "                                                     [key], {});\n",
              "          if (!dataTable) return;\n",
              "\n",
              "          const docLinkHtml = 'Like what you see? Visit the ' +\n",
              "            '<a target=\"_blank\" href=https://colab.research.google.com/notebooks/data_table.ipynb>data table notebook</a>'\n",
              "            + ' to learn more about interactive tables.';\n",
              "          element.innerHTML = '';\n",
              "          dataTable['output_type'] = 'display_data';\n",
              "          await google.colab.output.renderOutput(dataTable, element);\n",
              "          const docLink = document.createElement('div');\n",
              "          docLink.innerHTML = docLinkHtml;\n",
              "          element.appendChild(docLink);\n",
              "        }\n",
              "      </script>\n",
              "    </div>\n",
              "  </div>\n",
              "  "
            ]
          },
          "metadata": {},
          "execution_count": 276
        }
      ]
    },
    {
      "cell_type": "markdown",
      "source": [
        "## Removing Features"
      ],
      "metadata": {
        "id": "SHmWOtfs-ASH"
      }
    },
    {
      "cell_type": "code",
      "source": [
        "all_to_remove = fs.check_removal()\n",
        "all_to_remove"
      ],
      "metadata": {
        "colab": {
          "base_uri": "https://localhost:8080/"
        },
        "id": "rFCvTYAI9-Dj",
        "outputId": "ff3f7d5b-3cb8-4f21-e4be-a4dbd47210ce"
      },
      "execution_count": 277,
      "outputs": [
        {
          "output_type": "stream",
          "name": "stdout",
          "text": [
            "Total of 5 features identified for removal\n"
          ]
        },
        {
          "output_type": "execute_result",
          "data": {
            "text/plain": [
              "['device_type', 'C15', 'app_category', 'C16', 'C1']"
            ]
          },
          "metadata": {},
          "execution_count": 277
        }
      ]
    },
    {
      "cell_type": "code",
      "source": [
        "X_train_new = X_train_new.drop(columns = all_to_remove, axis = 1 )\n",
        "X_train_new.shape\n"
      ],
      "metadata": {
        "colab": {
          "base_uri": "https://localhost:8080/"
        },
        "id": "qJdNTipm-MeY",
        "outputId": "6cca048e-e624-43f5-9fa0-8b7a2ff15b71"
      },
      "execution_count": 278,
      "outputs": [
        {
          "output_type": "execute_result",
          "data": {
            "text/plain": [
              "(124528, 18)"
            ]
          },
          "metadata": {},
          "execution_count": 278
        }
      ]
    },
    {
      "cell_type": "code",
      "source": [
        "X_test_new = X_test_new.drop(columns = all_to_remove, axis = 1 )\n",
        "X_test_new.shape"
      ],
      "metadata": {
        "colab": {
          "base_uri": "https://localhost:8080/"
        },
        "id": "Rqny1bIcC-k6",
        "outputId": "ba45053d-85a2-44cb-bc98-6d8b6eb175c9"
      },
      "execution_count": 279,
      "outputs": [
        {
          "output_type": "execute_result",
          "data": {
            "text/plain": [
              "(25000, 18)"
            ]
          },
          "metadata": {},
          "execution_count": 279
        }
      ]
    },
    {
      "cell_type": "markdown",
      "source": [
        "### Modeling"
      ],
      "metadata": {
        "id": "rvYlFdsAF6yY"
      }
    },
    {
      "cell_type": "code",
      "source": [
        "from sklearn.preprocessing import StandardScaler\n",
        "from sklearn.model_selection import train_test_split\n",
        "from sklearn.linear_model import LogisticRegression\n",
        "from sklearn.metrics import precision_score,recall_score,accuracy_score,f1_score,confusion_matrix,roc_auc_score,classification_report\n",
        "from sklearn.ensemble import RandomForestClassifier\n",
        "from xgboost import XGBClassifier\n",
        "%matplotlib inline"
      ],
      "metadata": {
        "id": "HkOxHq9RDbFm"
      },
      "execution_count": 280,
      "outputs": []
    },
    {
      "cell_type": "markdown",
      "source": [
        "### Logistic Regression"
      ],
      "metadata": {
        "id": "Ofw3cfPBbj7w"
      }
    },
    {
      "cell_type": "code",
      "source": [
        "lr.fit(X_train_new,y_train)\n",
        "# Use the testing data to make predictions and determine the accuracy of your predictions.\n",
        "pred_lr = lr.predict(X_test_new)\n",
        "from sklearn import metrics\n",
        "print(metrics.accuracy_score(y_test, pred_lr))\n",
        "acc_lr = accuracy_score(y_test, pred_lr)\n",
        "recall_lr = recall_score(y_test, pred_lr)\n",
        "precision_lr = precision_score(y_test, pred_lr)\n",
        "f1score_lr = f1_score(y_test, pred_lr)\n",
        "\n",
        "AUC_LR = roc_auc_score(y_test, pred_lr)"
      ],
      "metadata": {
        "colab": {
          "base_uri": "https://localhost:8080/"
        },
        "id": "odfecjc_bmf0",
        "outputId": "704a56e0-8aa2-4c96-a54a-8dc7a9a31bac"
      },
      "execution_count": 281,
      "outputs": [
        {
          "output_type": "stream",
          "name": "stdout",
          "text": [
            "0.6808\n"
          ]
        },
        {
          "output_type": "stream",
          "name": "stderr",
          "text": [
            "/usr/local/lib/python3.7/dist-packages/sklearn/linear_model/_logistic.py:818: ConvergenceWarning: lbfgs failed to converge (status=1):\n",
            "STOP: TOTAL NO. of ITERATIONS REACHED LIMIT.\n",
            "\n",
            "Increase the number of iterations (max_iter) or scale the data as shown in:\n",
            "    https://scikit-learn.org/stable/modules/preprocessing.html\n",
            "Please also refer to the documentation for alternative solver options:\n",
            "    https://scikit-learn.org/stable/modules/linear_model.html#logistic-regression\n",
            "  extra_warning_msg=_LOGISTIC_SOLVER_CONVERGENCE_MSG,\n"
          ]
        }
      ]
    },
    {
      "cell_type": "code",
      "source": [
        "from sklearn.metrics import roc_auc_score\n",
        "roc_auc_score(y_test, lr.predict_proba(X_test_new)[:, 1])"
      ],
      "metadata": {
        "colab": {
          "base_uri": "https://localhost:8080/"
        },
        "id": "AwKnk3ZAbmmu",
        "outputId": "24bd3cb3-ee78-41f1-e3d0-6c88c28b6fdd"
      },
      "execution_count": 282,
      "outputs": [
        {
          "output_type": "execute_result",
          "data": {
            "text/plain": [
              "0.7036297042249884"
            ]
          },
          "metadata": {},
          "execution_count": 282
        }
      ]
    },
    {
      "cell_type": "code",
      "source": [
        "print(classification_report(y_test, pred_lr))"
      ],
      "metadata": {
        "colab": {
          "base_uri": "https://localhost:8080/"
        },
        "id": "Fl3-QaUwbmtL",
        "outputId": "eabdeffc-0ddc-4602-9117-767204045ec7"
      },
      "execution_count": 283,
      "outputs": [
        {
          "output_type": "stream",
          "name": "stdout",
          "text": [
            "              precision    recall  f1-score   support\n",
            "\n",
            "           0       0.89      0.70      0.78     20755\n",
            "           1       0.29      0.59      0.39      4245\n",
            "\n",
            "    accuracy                           0.68     25000\n",
            "   macro avg       0.59      0.65      0.59     25000\n",
            "weighted avg       0.79      0.68      0.72     25000\n",
            "\n"
          ]
        }
      ]
    },
    {
      "cell_type": "markdown",
      "source": [
        "### Random Forest"
      ],
      "metadata": {
        "id": "F_DUQDEhIyad"
      }
    },
    {
      "cell_type": "code",
      "source": [
        "model_rf = RandomForestClassifier(n_estimators=10, max_features=7, random_state=42)\n",
        "model_rf.fit(X_train_new, y_train)\n",
        "predict_rf = model_rf.predict(X_test_new)\n",
        "recall_rf = recall_score(y_test, predict_rf)\n",
        "precision_rf = precision_score(y_test, predict_rf)"
      ],
      "metadata": {
        "id": "fksdN23kKWPf"
      },
      "execution_count": 284,
      "outputs": []
    },
    {
      "cell_type": "code",
      "source": [
        "AUC_RF=roc_auc_score(y_test, predict_rf)\n",
        "acc_rf=accuracy_score(y_test,predict_rf)\n",
        "recall_rf=recall_score(y_test,predict_rf)\n",
        "precision_rf=precision_score(y_test,predict_rf)\n",
        "f1score_rf=f1_score(y_test, predict_rf)\n",
        "\n",
        "print(accuracy_score(y_test, predict_rf))\n",
        "print(\"ROC_AUC Score:\",AUC_RF)"
      ],
      "metadata": {
        "colab": {
          "base_uri": "https://localhost:8080/"
        },
        "id": "WLw0T_VAJgDo",
        "outputId": "9636ddd9-4e2d-4004-921c-f231f6f3c6f9"
      },
      "execution_count": 285,
      "outputs": [
        {
          "output_type": "stream",
          "name": "stdout",
          "text": [
            "0.78964\n",
            "ROC_AUC Score: 0.5588670503566909\n"
          ]
        }
      ]
    },
    {
      "cell_type": "code",
      "source": [
        "print(classification_report(y_test, predict_rf))"
      ],
      "metadata": {
        "colab": {
          "base_uri": "https://localhost:8080/"
        },
        "id": "ei679K4BKgHn",
        "outputId": "ca817383-fcf3-4340-c4be-cf5d938aaac9"
      },
      "execution_count": 286,
      "outputs": [
        {
          "output_type": "stream",
          "name": "stdout",
          "text": [
            "              precision    recall  f1-score   support\n",
            "\n",
            "           0       0.85      0.91      0.88     20755\n",
            "           1       0.32      0.21      0.25      4245\n",
            "\n",
            "    accuracy                           0.79     25000\n",
            "   macro avg       0.58      0.56      0.57     25000\n",
            "weighted avg       0.76      0.79      0.77     25000\n",
            "\n"
          ]
        }
      ]
    },
    {
      "cell_type": "markdown",
      "source": [
        "## XGBoost"
      ],
      "metadata": {
        "id": "LU0IUKNOHIo7"
      }
    },
    {
      "cell_type": "code",
      "source": [
        "from xgboost import XGBClassifier\n",
        "xgb=XGBClassifier()\n",
        "XGB_fit=xgb.fit(X_train_new, y_train)\n",
        "y_xgb_predict = XGB_fit.predict(X_test_new)\n",
        "XGB_probability = XGB_fit.predict_proba(X_test_new)[:,1]\n",
        "\n",
        "acc_xgb=accuracy_score(y_test,y_xgb_predict)\n",
        "recall_xgb=recall_score(y_test,y_xgb_predict)\n",
        "precision_xgb=precision_score(y_test,y_xgb_predict)\n",
        "f1score_xgb=f1_score(y_test,y_xgb_predict)\n",
        "\n",
        "AUC_xgb=roc_auc_score(y_test, y_xgb_predict)\n",
        "\n",
        "\n",
        "print(accuracy_score(y_test, y_xgb_predict))\n",
        "print(\"ROC_AUC Score:\",AUC_xgb)"
      ],
      "metadata": {
        "colab": {
          "base_uri": "https://localhost:8080/"
        },
        "id": "ApHbfbo2F8ym",
        "outputId": "2abf45bd-9c0f-4e04-e5d0-3b016fc91e38"
      },
      "execution_count": 287,
      "outputs": [
        {
          "output_type": "stream",
          "name": "stdout",
          "text": [
            "0.66344\n",
            "ROC_AUC Score: 0.6432671934814124\n"
          ]
        }
      ]
    },
    {
      "cell_type": "code",
      "source": [
        "print(classification_report(y_test, y_xgb_predict))"
      ],
      "metadata": {
        "colab": {
          "base_uri": "https://localhost:8080/"
        },
        "id": "mJ57j_ExHSbd",
        "outputId": "532a4cb2-fa3c-4136-dc2d-4a0d8cd94254"
      },
      "execution_count": 288,
      "outputs": [
        {
          "output_type": "stream",
          "name": "stdout",
          "text": [
            "              precision    recall  f1-score   support\n",
            "\n",
            "           0       0.89      0.67      0.77     20755\n",
            "           1       0.28      0.61      0.38      4245\n",
            "\n",
            "    accuracy                           0.66     25000\n",
            "   macro avg       0.59      0.64      0.58     25000\n",
            "weighted avg       0.79      0.66      0.70     25000\n",
            "\n"
          ]
        }
      ]
    },
    {
      "cell_type": "code",
      "source": [
        "ind=['Logistic regression','Randomforest',\"XGBoost\"]\n",
        "data={\"Accuracy\":[acc_lr,acc_rf,acc_xgb],\"Recall\":[recall_lr,recall_rf,recall_xgb],\"Precision\":[precision_lr,precision_rf,precision_xgb],\n",
        "    'f1_score':[f1score_lr,f1score_rf,f1score_xgb],\"ROC_AUC\":[AUC_LR,AUC_RF,AUC_xgb]}\n",
        "result=pd.DataFrame(data=data,index=ind)\n",
        "result"
      ],
      "metadata": {
        "colab": {
          "base_uri": "https://localhost:8080/",
          "height": 172
        },
        "id": "YeAGSZY1cRUX",
        "outputId": "03311bd5-07cb-4021-b546-1a00396840e2"
      },
      "execution_count": 289,
      "outputs": [
        {
          "output_type": "execute_result",
          "data": {
            "text/plain": [
              "                     Accuracy    Recall  Precision  f1_score   ROC_AUC\n",
              "Logistic regression  0.68080   0.594582  0.287373   0.387473  0.646508\n",
              "Randomforest         0.78964   0.209423  0.318410   0.252664  0.558867\n",
              "XGBoost              0.66344   0.612721  0.277558   0.382051  0.643267"
            ],
            "text/html": [
              "\n",
              "  <div id=\"df-0ddd81c2-9747-4660-8d4e-732c32fbbb5a\">\n",
              "    <div class=\"colab-df-container\">\n",
              "      <div>\n",
              "<style scoped>\n",
              "    .dataframe tbody tr th:only-of-type {\n",
              "        vertical-align: middle;\n",
              "    }\n",
              "\n",
              "    .dataframe tbody tr th {\n",
              "        vertical-align: top;\n",
              "    }\n",
              "\n",
              "    .dataframe thead th {\n",
              "        text-align: right;\n",
              "    }\n",
              "</style>\n",
              "<table border=\"1\" class=\"dataframe\">\n",
              "  <thead>\n",
              "    <tr style=\"text-align: right;\">\n",
              "      <th></th>\n",
              "      <th>Accuracy</th>\n",
              "      <th>Recall</th>\n",
              "      <th>Precision</th>\n",
              "      <th>f1_score</th>\n",
              "      <th>ROC_AUC</th>\n",
              "    </tr>\n",
              "  </thead>\n",
              "  <tbody>\n",
              "    <tr>\n",
              "      <th>Logistic regression</th>\n",
              "      <td>0.68080</td>\n",
              "      <td>0.594582</td>\n",
              "      <td>0.287373</td>\n",
              "      <td>0.387473</td>\n",
              "      <td>0.646508</td>\n",
              "    </tr>\n",
              "    <tr>\n",
              "      <th>Randomforest</th>\n",
              "      <td>0.78964</td>\n",
              "      <td>0.209423</td>\n",
              "      <td>0.318410</td>\n",
              "      <td>0.252664</td>\n",
              "      <td>0.558867</td>\n",
              "    </tr>\n",
              "    <tr>\n",
              "      <th>XGBoost</th>\n",
              "      <td>0.66344</td>\n",
              "      <td>0.612721</td>\n",
              "      <td>0.277558</td>\n",
              "      <td>0.382051</td>\n",
              "      <td>0.643267</td>\n",
              "    </tr>\n",
              "  </tbody>\n",
              "</table>\n",
              "</div>\n",
              "      <button class=\"colab-df-convert\" onclick=\"convertToInteractive('df-0ddd81c2-9747-4660-8d4e-732c32fbbb5a')\"\n",
              "              title=\"Convert this dataframe to an interactive table.\"\n",
              "              style=\"display:none;\">\n",
              "        \n",
              "  <svg xmlns=\"http://www.w3.org/2000/svg\" height=\"24px\"viewBox=\"0 0 24 24\"\n",
              "       width=\"24px\">\n",
              "    <path d=\"M0 0h24v24H0V0z\" fill=\"none\"/>\n",
              "    <path d=\"M18.56 5.44l.94 2.06.94-2.06 2.06-.94-2.06-.94-.94-2.06-.94 2.06-2.06.94zm-11 1L8.5 8.5l.94-2.06 2.06-.94-2.06-.94L8.5 2.5l-.94 2.06-2.06.94zm10 10l.94 2.06.94-2.06 2.06-.94-2.06-.94-.94-2.06-.94 2.06-2.06.94z\"/><path d=\"M17.41 7.96l-1.37-1.37c-.4-.4-.92-.59-1.43-.59-.52 0-1.04.2-1.43.59L10.3 9.45l-7.72 7.72c-.78.78-.78 2.05 0 2.83L4 21.41c.39.39.9.59 1.41.59.51 0 1.02-.2 1.41-.59l7.78-7.78 2.81-2.81c.8-.78.8-2.07 0-2.86zM5.41 20L4 18.59l7.72-7.72 1.47 1.35L5.41 20z\"/>\n",
              "  </svg>\n",
              "      </button>\n",
              "      \n",
              "  <style>\n",
              "    .colab-df-container {\n",
              "      display:flex;\n",
              "      flex-wrap:wrap;\n",
              "      gap: 12px;\n",
              "    }\n",
              "\n",
              "    .colab-df-convert {\n",
              "      background-color: #E8F0FE;\n",
              "      border: none;\n",
              "      border-radius: 50%;\n",
              "      cursor: pointer;\n",
              "      display: none;\n",
              "      fill: #1967D2;\n",
              "      height: 32px;\n",
              "      padding: 0 0 0 0;\n",
              "      width: 32px;\n",
              "    }\n",
              "\n",
              "    .colab-df-convert:hover {\n",
              "      background-color: #E2EBFA;\n",
              "      box-shadow: 0px 1px 2px rgba(60, 64, 67, 0.3), 0px 1px 3px 1px rgba(60, 64, 67, 0.15);\n",
              "      fill: #174EA6;\n",
              "    }\n",
              "\n",
              "    [theme=dark] .colab-df-convert {\n",
              "      background-color: #3B4455;\n",
              "      fill: #D2E3FC;\n",
              "    }\n",
              "\n",
              "    [theme=dark] .colab-df-convert:hover {\n",
              "      background-color: #434B5C;\n",
              "      box-shadow: 0px 1px 3px 1px rgba(0, 0, 0, 0.15);\n",
              "      filter: drop-shadow(0px 1px 2px rgba(0, 0, 0, 0.3));\n",
              "      fill: #FFFFFF;\n",
              "    }\n",
              "  </style>\n",
              "\n",
              "      <script>\n",
              "        const buttonEl =\n",
              "          document.querySelector('#df-0ddd81c2-9747-4660-8d4e-732c32fbbb5a button.colab-df-convert');\n",
              "        buttonEl.style.display =\n",
              "          google.colab.kernel.accessAllowed ? 'block' : 'none';\n",
              "\n",
              "        async function convertToInteractive(key) {\n",
              "          const element = document.querySelector('#df-0ddd81c2-9747-4660-8d4e-732c32fbbb5a');\n",
              "          const dataTable =\n",
              "            await google.colab.kernel.invokeFunction('convertToInteractive',\n",
              "                                                     [key], {});\n",
              "          if (!dataTable) return;\n",
              "\n",
              "          const docLinkHtml = 'Like what you see? Visit the ' +\n",
              "            '<a target=\"_blank\" href=https://colab.research.google.com/notebooks/data_table.ipynb>data table notebook</a>'\n",
              "            + ' to learn more about interactive tables.';\n",
              "          element.innerHTML = '';\n",
              "          dataTable['output_type'] = 'display_data';\n",
              "          await google.colab.output.renderOutput(dataTable, element);\n",
              "          const docLink = document.createElement('div');\n",
              "          docLink.innerHTML = docLinkHtml;\n",
              "          element.appendChild(docLink);\n",
              "        }\n",
              "      </script>\n",
              "    </div>\n",
              "  </div>\n",
              "  "
            ]
          },
          "metadata": {},
          "execution_count": 289
        }
      ]
    },
    {
      "cell_type": "code",
      "source": [
        ""
      ],
      "metadata": {
        "id": "WXij0GtGcS3M"
      },
      "execution_count": 289,
      "outputs": []
    }
  ]
}